{
 "cells": [
  {
   "cell_type": "code",
   "execution_count": 2,
   "id": "6591a85c-d9fd-4c61-9359-d188c678c224",
   "metadata": {},
   "outputs": [
    {
     "name": "stderr",
     "output_type": "stream",
     "text": [
      "ibmqfactory.load_account:WARNING:2022-05-25 13:48:44,574: Credentials are already in use. The existing account in the session will be replaced.\n"
     ]
    }
   ],
   "source": [
    "import numpy as np\n",
    "\n",
    "# Importing standard Qiskit libraries\n",
    "from qiskit import QuantumCircuit, transpile, Aer, IBMQ\n",
    "from qiskit.tools.jupyter import *\n",
    "from qiskit.visualization import *\n",
    "from ibm_quantum_widgets import *\n",
    "from qiskit.providers.aer import QasmSimulator\n",
    "\n",
    "# Additional libraries\n",
    "from qiskit import QuantumRegister, ClassicalRegister\n",
    "from qiskit.providers.ibmq import least_busy\n",
    "from qiskit.tools import job_monitor\n",
    "from qiskit import execute\n",
    "\n",
    "# Loading your IBM Quantum account(s)\n",
    "provider = IBMQ.load_account() "
   ]
  },
  {
   "cell_type": "markdown",
   "id": "88518767-142c-47ec-9344-8226bae7a4b9",
   "metadata": {},
   "source": [
    "# Run Circuit on Simulator"
   ]
  },
  {
   "cell_type": "code",
   "execution_count": 3,
   "id": "3ad6af4c-95f0-4473-84df-5ffc02ae4c05",
   "metadata": {},
   "outputs": [
    {
     "name": "stdout",
     "output_type": "stream",
     "text": [
      "\n",
      "Total count for 00 and 11 are: {'00': 494, '11': 506}\n"
     ]
    },
    {
     "data": {
      "image/png": "[encoded data removed]",
      "text/plain": [
       "<Figure size 327.252x204.68 with 1 Axes>"
      ]
     },
     "execution_count": 3,
     "metadata": {},
     "output_type": "execute_result"
    }
   ],
   "source": [
    "#code taken from https://qiskit.org/documentation/intro_tutorial1.html\n",
    "\n",
    "\n",
    "# Identify backend: Use Aer's qasm_simulator\n",
    "simulator = QasmSimulator()\n",
    "\n",
    "# Create a quantum circuit with 2 qubits and 2 classical bits\n",
    "circuit = QuantumCircuit(2, 2)\n",
    "\n",
    "# Add a H gate on qubit 0\n",
    "circuit.h(0)\n",
    "\n",
    "# Add a CX (CNOT) gate on control qubit 0 and target qubit 1\n",
    "circuit.cx(0, 1)\n",
    "\n",
    "# Map the quantum measurements to the classical bits\n",
    "circuit.measure([0,1], [0,1])\n",
    "\n",
    "# compile the circuit down to low-level QASM instructions\n",
    "# supported by the backend (not needed for simple circuits)\n",
    "compiled_circuit = transpile(circuit, simulator)\n",
    "\n",
    "# Execute the circuit on the qasm simulator\n",
    "job = simulator.run(compiled_circuit, shots=1000)\n",
    "\n",
    "# Grab results from the job\n",
    "result = job.result()\n",
    "\n",
    "# Returns counts\n",
    "counts = result.get_counts(compiled_circuit)\n",
    "print(\"\\nTotal count for 00 and 11 are:\",counts)\n",
    "\n",
    "# Draw the circuit\n",
    "circuit.draw()"
   ]
  },
  {
   "cell_type": "markdown",
   "id": "5b9a5be4-d6fc-4b2e-a954-ac123c8f3d14",
   "metadata": {},
   "source": [
    "# Run Circuit on Real Device"
   ]
  },
  {
   "cell_type": "code",
   "execution_count": 4,
   "id": "495c6067-76ae-4611-97c2-a7f96b85a351",
   "metadata": {},
   "outputs": [
    {
     "data": {
      "text/plain": [
       "[<AccountProvider for IBMQ(hub='ibm-q', group='open', project='main')>,\n",
       " <AccountProvider for IBMQ(hub='ibm-q-internal', group='deployed', project='default')>]"
      ]
     },
     "execution_count": 4,
     "metadata": {},
     "output_type": "execute_result"
    }
   ],
   "source": [
    "# See what providers are available to you\n",
    "IBMQ.providers()"
   ]
  },
  {
   "cell_type": "code",
   "execution_count": 5,
   "id": "55492fb1-6802-45f4-80d1-ae7cc7d6dffb",
   "metadata": {},
   "outputs": [
    {
     "name": "stdout",
     "output_type": "stream",
     "text": [
      "ibmq_qasm_simulator\n",
      "ibmq_armonk\n",
      "ibmq_montreal\n",
      "ibmq_toronto\n",
      "ibmq_bogota\n",
      "ibmq_kolkata\n",
      "ibmq_mumbai\n",
      "ibmq_lima\n",
      "ibmq_belem\n",
      "ibmq_quito\n",
      "ibmq_guadalupe\n",
      "ibmq_brooklyn\n",
      "ibmq_jakarta\n",
      "ibmq_manila\n",
      "ibm_hanoi\n",
      "ibm_lagos\n",
      "ibm_cairo\n",
      "ibm_auckland\n",
      "ibm_perth\n",
      "ibm_washington\n"
     ]
    }
   ],
   "source": [
    "# Get your provider and see which backends are available to you\n",
    "\n",
    "provider = IBMQ.get_provider('ibm-q-internal') # comment this if you don't have access to internal systems\n",
    "#provider = IBMQ.get_provider('ibm-q') # publically accessible provider, open-access\n",
    "\n",
    "for backend in provider.backends():\n",
    "    print(backend)"
   ]
  },
  {
   "cell_type": "code",
   "execution_count": 6,
   "id": "3160c273-9816-404e-838a-f34dee82e5bc",
   "metadata": {},
   "outputs": [
    {
     "name": "stdout",
     "output_type": "stream",
     "text": [
      "ibmq_montreal\n",
      "ibmq_toronto\n",
      "ibmq_bogota\n",
      "ibmq_kolkata\n",
      "ibmq_mumbai\n",
      "ibmq_lima\n",
      "ibmq_belem\n",
      "ibmq_quito\n",
      "ibmq_guadalupe\n",
      "ibmq_brooklyn\n",
      "ibmq_jakarta\n",
      "ibmq_manila\n",
      "ibm_hanoi\n",
      "ibm_lagos\n",
      "ibm_cairo\n",
      "ibm_auckland\n",
      "ibm_perth\n",
      "ibm_washington\n"
     ]
    }
   ],
   "source": [
    "# Find which real devices are eligible to run your circuit\n",
    "\n",
    "eligible_devices = provider.backends(filters=lambda x:x.configuration().n_qubits>1 and not x.configuration().simulator)\n",
    "\n",
    "for backend in eligible_devices:\n",
    "    print(backend)"
   ]
  },
  {
   "cell_type": "code",
   "execution_count": 7,
   "id": "73df070e-bd4a-4abf-97bf-2c7606206f37",
   "metadata": {},
   "outputs": [
    {
     "name": "stdout",
     "output_type": "stream",
     "text": [
      "ibmq_kolkata\n"
     ]
    }
   ],
   "source": [
    "# Select the least busy backend\n",
    "\n",
    "chosen_backend = least_busy(eligible_devices)\n",
    "print(chosen_backend.name())"
   ]
  },
  {
   "cell_type": "code",
   "execution_count": 8,
   "id": "63fb419d-6363-4970-b558-14ccc0fe7bc6",
   "metadata": {},
   "outputs": [
    {
     "name": "stdout",
     "output_type": "stream",
     "text": [
      "Job Status: job has successfully run\n"
     ]
    }
   ],
   "source": [
    "# Run and monitor the job\n",
    "\n",
    "compiled_circuit = transpile(circuit, chosen_backend)\n",
    "job = chosen_backend.run(compiled_circuit, shots = 1000)\n",
    "job_monitor(job)"
   ]
  },
  {
   "cell_type": "code",
   "execution_count": 9,
   "id": "70750705-3b09-4539-9a3d-e6dbdec85a15",
   "metadata": {},
   "outputs": [
    {
     "name": "stdout",
     "output_type": "stream",
     "text": [
      "Your backend is:\n",
      "ibmq_kolkata\n",
      "Your job ID is:\n",
      "628e33de0bc5b65053eeaf38\n",
      "\n",
      "The counts from the real device are:\n",
      "{'00': 504, '01': 13, '10': 15, '11': 468}\n",
      "\n",
      "The counts from the simulator are:\n",
      "{'00': 494, '11': 506}\n"
     ]
    }
   ],
   "source": [
    "# Check the results\n",
    "\n",
    "job_id = job.job_id()\n",
    "retrieved_job = chosen_backend.retrieve_job(job_id)\n",
    "result = retrieved_job.result()\n",
    "counts_real = result.get_counts()\n",
    "\n",
    "# If currently unable to run, can use the following result from real devices\n",
    "\n",
    "# counts_real = {'00': 476, '01': 15, '10': 18, '11': 491} # example result from a real quantum computer\n",
    "\n",
    "# Print both real and sim results\n",
    "print(\"Your backend is:\")\n",
    "print(chosen_backend)\n",
    "print(\"Your job ID is:\")\n",
    "print(job_id)\n",
    "print()\n",
    "print(\"The counts from the real device are:\")\n",
    "print(counts_real)\n",
    "print()\n",
    "print(\"The counts from the simulator are:\")\n",
    "print(counts)"
   ]
  },
  {
   "cell_type": "code",
   "execution_count": 10,
   "id": "3baab08f-1323-4c6e-90e2-2a4faf5c22f6",
   "metadata": {},
   "outputs": [
    {
     "data": {
      "image/png": "[encoded data removed]",
      "text/plain": [
       "<Figure size 504x360 with 1 Axes>"
      ]
     },
     "execution_count": 10,
     "metadata": {},
     "output_type": "execute_result"
    }
   ],
   "source": [
    "# Plot the results\n",
    "\n",
    "title = 'Real vs. Simulated'\n",
    "legend = ['Real Counts', 'Sim Counts']\n",
    "\n",
    "plot_histogram([counts_real, counts], legend = legend, title = title, color = ['teal', 'purple'], bar_labels = False)"
   ]
  },
  {
   "cell_type": "markdown",
   "id": "0fa782eb-134f-472f-afef-98a281b9312f",
   "metadata": {},
   "source": [
    "# Hands-On Exercises\n",
    "\n",
    "Build a circuit that results in the state or logic table provided. You can use the composer or program the circuits here.\n",
    "\n",
    "*Exercises from Junye Huang*"
   ]
  },
  {
   "cell_type": "markdown",
   "id": "d1d33beb-b3dc-42cc-8ea6-8db311618035",
   "metadata": {},
   "source": [
    "![](NOT_gate.png)"
   ]
  },
  {
   "cell_type": "code",
   "execution_count": null,
   "id": "06e597dc-8a6c-48dc-b2ec-7a65bb7b7508",
   "metadata": {},
   "outputs": [],
   "source": [
    "# NOT operation using the simulator\n",
    "\n",
    "simulator = QasmSimulator()\n",
    "\n",
    "\n",
    "for i in ['0','1']:\n",
    "    # Prepare circuit\n",
    "    qreg = QuantumRegister(1, name = 'q_reg')\n",
    "    creg = ClassicalRegister(1, name = 'c_reg')\n",
    "    not_circ = QuantumCircuit(qreg,creg)\n",
    "    \n",
    "    # Initialize qubit state\n",
    "    if i == '1':\n",
    "        not_circ.x(0) \n",
    "    not_circ.barrier()\n",
    "    \n",
    "    # Apply NOT operation\n",
    "    not_circ.x(qreg[0]) # this is where you replace 'which'\n",
    "    not_circ.barrier()\n",
    "\n",
    "    # Measure\n",
    "    not_circ.measure(qreg[0],creg[0])\n",
    "    \n",
    "    display(not_circ.draw('mpl'))\n",
    "\n",
    "    job = simulator.run(not_circ, shots=1000)\n",
    "\n",
    "    # Grab results from the job\n",
    "    result = job.result()\n",
    "\n",
    "    # Returns counts\n",
    "    counts = result.get_counts(not_circ)\n",
    "\n",
    "    print('The result when the qubit is initialized in state ', i,' is:', max(counts))\n"
   ]
  },
  {
   "cell_type": "markdown",
   "id": "dea6e6ae-f7a5-4063-97af-97122dbde89b",
   "metadata": {},
   "source": [
    "![](XOR_gate.png)"
   ]
  },
  {
   "cell_type": "markdown",
   "id": "57413013-6fcd-4fd1-9b6c-c26589c1aa30",
   "metadata": {},
   "source": [
    "![](AND_gate.png)"
   ]
  },
  {
   "cell_type": "markdown",
   "id": "9126462f-ca77-4a59-8b04-d2d0f6405cbd",
   "metadata": {},
   "source": [
    "![](Bell_state_circ.png)"
   ]
  },
  {
   "cell_type": "markdown",
   "id": "ab12ceb4-d9bc-4b0a-9f4e-84ac85337248",
   "metadata": {},
   "source": [
    "![](GHZ_state_circ.png)"
   ]
  },
  {
   "cell_type": "markdown",
   "id": "fe324b94-75b6-4098-80a5-a588a6148eb4",
   "metadata": {},
   "source": [
    "![](qiskit_logo_circ.png)"
   ]
  },
  {
   "cell_type": "code",
   "execution_count": null,
   "id": "b9bae350-af71-46cd-acbd-3ac7797f63bf",
   "metadata": {},
   "outputs": [],
   "source": []
  }
 ],
 "metadata": {
  "kernelspec": {
   "display_name": "Qiskit v0.35.0 (ipykernel)",
   "language": "python",
   "name": "python3"
  },
  "language_info": {
   "codemirror_mode": {
    "name": "ipython",
    "version": 3
   },
   "file_extension": ".py",
   "mimetype": "text/x-python",
   "name": "python",
   "nbconvert_exporter": "python",
   "pygments_lexer": "ipython3",
   "version": "3.8.13"
  },
  "widgets": {
   "application/vnd.jupyter.widget-state+json": {
    "state": {
     "04e2190a14864d9ebca6d32ed58cc3a1": {
      "model_module": "@jupyter-widgets/base",
      "model_module_version": "1.2.0",
      "model_name": "LayoutModel",
      "state": {
       "margin": "0px 5px 0px 0px",
       "width": "32px"
      }
     },
     "07389262087f4ca0bcd34011276c372d": {
      "model_module": "@jupyter-widgets/controls",
      "model_module_version": "1.5.0",
      "model_name": "ButtonModel",
      "state": {
       "icon": "close",
       "layout": "IPY_MODEL_04e2190a14864d9ebca6d32ed58cc3a1",
       "style": "IPY_MODEL_b59eb7adb5aa465783cd535669d18804"
      }
     },
     "088973dfac5a4049b46787d3c86f526f": {
      "model_module": "@jupyter-widgets/base",
      "model_module_version": "1.2.0",
      "model_name": "LayoutModel",
      "state": {
       "max_width": "700px",
       "min_width": "700px"
      }
     },
     "09751af3f89c4f00b0f3627d036f38b3": {
      "model_module": "@jupyter-widgets/base",
      "model_module_version": "1.2.0",
      "model_name": "LayoutModel",
      "state": {
       "overflow_x": "scroll"
      }
     },
     "0ba48ebd7b1e47d0bf70b2d1c6103f3e": {
      "model_module": "@jupyter-widgets/controls",
      "model_module_version": "1.5.0",
      "model_name": "HTMLModel",
      "state": {
       "layout": "IPY_MODEL_65071ca147374eaa88b84298890b7676",
       "style": "IPY_MODEL_4660520b4e4a44eba59dca80edc20780",
       "value": "<h5>Queue</h5>"
      }
     },
     "1307acd93a9a4e84ad508a9e0e9c61e6": {
      "model_module": "@jupyter-widgets/controls",
      "model_module_version": "1.5.0",
      "model_name": "DescriptionStyleModel",
      "state": {
       "description_width": ""
      }
     },
     "14838c55f47044f38c95143090deebbf": {
      "model_module": "@jupyter-widgets/controls",
      "model_module_version": "1.5.0",
      "model_name": "GridBoxModel",
      "state": {
       "children": [
        "IPY_MODEL_6074277260de453b99b4c4d698da7739"
       ],
       "layout": "IPY_MODEL_597fa06e6375472694950aecfcde2681"
      }
     },
     "19b0c3e237a241ddb1e63776eb52d600": {
      "model_module": "@jupyter-widgets/controls",
      "model_module_version": "1.5.0",
      "model_name": "DescriptionStyleModel",
      "state": {
       "description_width": ""
      }
     },
     "2126ba85077b42f3b818647c49ae4b93": {
      "model_module": "@jupyter-widgets/controls",
      "model_module_version": "1.5.0",
      "model_name": "DescriptionStyleModel",
      "state": {
       "description_width": ""
      }
     },
     "23e6f944838d4e76b2b376cadb77e54f": {
      "model_module": "@jupyter-widgets/controls",
      "model_module_version": "1.5.0",
      "model_name": "HTMLModel",
      "state": {
       "layout": "IPY_MODEL_09751af3f89c4f00b0f3627d036f38b3",
       "style": "IPY_MODEL_b18a32cf17304e2cad5460a2063abc62",
       "value": "job has successfully run"
      }
     },
     "35e11995dde34ac2be36d7fedc35f55a": {
      "model_module": "@jupyter-widgets/controls",
      "model_module_version": "1.5.0",
      "model_name": "HTMLModel",
      "state": {
       "layout": "IPY_MODEL_4422ad1236b84d1abed069b52a607486",
       "style": "IPY_MODEL_19b0c3e237a241ddb1e63776eb52d600",
       "value": "628e33de0bc5b65053eeaf38"
      }
     },
     "3b503f368fb44c9d913adc413b8547f7": {
      "model_module": "@jupyter-widgets/base",
      "model_module_version": "1.2.0",
      "model_name": "LayoutModel",
      "state": {
       "width": "145px"
      }
     },
     "3ebea914761f431bbf05b2f8f1d94aa4": {
      "model_module": "@jupyter-widgets/controls",
      "model_module_version": "1.5.0",
      "model_name": "DescriptionStyleModel",
      "state": {
       "description_width": ""
      }
     },
     "43c9e36e0136490282b7179a071512ed": {
      "model_module": "@jupyter-widgets/base",
      "model_module_version": "1.2.0",
      "model_name": "LayoutModel",
      "state": {
       "width": "145px"
      }
     },
     "4422ad1236b84d1abed069b52a607486": {
      "model_module": "@jupyter-widgets/base",
      "model_module_version": "1.2.0",
      "model_name": "LayoutModel",
      "state": {
       "width": "190px"
      }
     },
     "4660520b4e4a44eba59dca80edc20780": {
      "model_module": "@jupyter-widgets/controls",
      "model_module_version": "1.5.0",
      "model_name": "DescriptionStyleModel",
      "state": {
       "description_width": ""
      }
     },
     "58f32173c861403e96b078fe3189b485": {
      "model_module": "@jupyter-widgets/base",
      "model_module_version": "1.2.0",
      "model_name": "LayoutModel",
      "state": {
       "width": "95px"
      }
     },
     "597fa06e6375472694950aecfcde2681": {
      "model_module": "@jupyter-widgets/base",
      "model_module_version": "1.2.0",
      "model_name": "LayoutModel",
      "state": {
       "grid_template_areas": "\n                                       \". . . . right \"\n                                        ",
       "grid_template_columns": "20% 20% 20% 20% 20%",
       "width": "100%"
      }
     },
     "5f59d452c6674b9a87f9897eb786c2ef": {
      "model_module": "@jupyter-widgets/controls",
      "model_module_version": "1.5.0",
      "model_name": "DescriptionStyleModel",
      "state": {
       "description_width": ""
      }
     },
     "6074277260de453b99b4c4d698da7739": {
      "model_module": "@jupyter-widgets/controls",
      "model_module_version": "1.5.0",
      "model_name": "ButtonModel",
      "state": {
       "button_style": "primary",
       "description": "Clear",
       "layout": "IPY_MODEL_eb96f91bb47643858aa7f47adde16bba",
       "style": "IPY_MODEL_765a425915da4fdb92943de6f52d1477"
      }
     },
     "607f118bbfc24b3b9653082cf31c046d": {
      "model_module": "@jupyter-widgets/controls",
      "model_module_version": "1.5.0",
      "model_name": "HTMLModel",
      "state": {
       "layout": "IPY_MODEL_e6ae1f2cc17b47c092065a373c86f046",
       "style": "IPY_MODEL_c8094177ed42462094571defda9e17c1",
       "value": "<h5>Job ID</h5>"
      }
     },
     "6480e15c38f34a8cbb8f117279473527": {
      "model_module": "@jupyter-widgets/base",
      "model_module_version": "1.2.0",
      "model_name": "LayoutModel",
      "state": {
       "width": "70px"
      }
     },
     "65071ca147374eaa88b84298890b7676": {
      "model_module": "@jupyter-widgets/base",
      "model_module_version": "1.2.0",
      "model_name": "LayoutModel",
      "state": {
       "width": "70px"
      }
     },
     "65b61cbb6ddb4bb59401ff4186fef91f": {
      "model_module": "@jupyter-widgets/base",
      "model_module_version": "1.2.0",
      "model_name": "LayoutModel",
      "state": {
       "margin": "0px 0px 10px 0px"
      }
     },
     "663918043b684da6a1641d10373a3d1b": {
      "model_module": "@jupyter-widgets/controls",
      "model_module_version": "1.5.0",
      "model_name": "DescriptionStyleModel",
      "state": {
       "description_width": ""
      }
     },
     "69266e18f5994c6c9c5c1631c18e91af": {
      "model_module": "@jupyter-widgets/controls",
      "model_module_version": "1.5.0",
      "model_name": "HTMLModel",
      "state": {
       "layout": "IPY_MODEL_65b61cbb6ddb4bb59401ff4186fef91f",
       "style": "IPY_MODEL_663918043b684da6a1641d10373a3d1b",
       "value": "<p style='font-family: IBM Plex Sans, Arial, Helvetica, sans-serif; font-size: 20px; font-weight: medium;'>Circuit Properties</p>"
      }
     },
     "765a425915da4fdb92943de6f52d1477": {
      "model_module": "@jupyter-widgets/controls",
      "model_module_version": "1.5.0",
      "model_name": "ButtonStyleModel",
      "state": {}
     },
     "77477c2d1ed544579a786cf1797acd54": {
      "model_module": "@jupyter-widgets/controls",
      "model_module_version": "1.5.0",
      "model_name": "DescriptionStyleModel",
      "state": {
       "description_width": ""
      }
     },
     "8f46e3fb1c564bac860a35acc136f9d0": {
      "model_module": "@jupyter-widgets/controls",
      "model_module_version": "1.5.0",
      "model_name": "HTMLModel",
      "state": {
       "layout": "IPY_MODEL_cff720ad9970442e8bed6cc4fa2ad40a",
       "style": "IPY_MODEL_1307acd93a9a4e84ad508a9e0e9c61e6",
       "value": "<h5>Status</h5>"
      }
     },
     "aff26250447449ea9fa8977002e4c2fe": {
      "model_module": "@jupyter-widgets/controls",
      "model_module_version": "1.5.0",
      "model_name": "DescriptionStyleModel",
      "state": {
       "description_width": ""
      }
     },
     "b02efc7987ae43feb93e3f1efeaf1e9b": {
      "model_module": "@jupyter-widgets/controls",
      "model_module_version": "1.5.0",
      "model_name": "HBoxModel",
      "state": {
       "children": [
        "IPY_MODEL_07389262087f4ca0bcd34011276c372d",
        "IPY_MODEL_35e11995dde34ac2be36d7fedc35f55a",
        "IPY_MODEL_b53665fef9704e9d9de79458d41acd73",
        "IPY_MODEL_cd2f2cb6293845e9804f18ff93b7d269",
        "IPY_MODEL_d61e034875fa4ae38a01d275be9b997a",
        "IPY_MODEL_23e6f944838d4e76b2b376cadb77e54f"
       ],
       "layout": "IPY_MODEL_088973dfac5a4049b46787d3c86f526f"
      }
     },
     "b18a32cf17304e2cad5460a2063abc62": {
      "model_module": "@jupyter-widgets/controls",
      "model_module_version": "1.5.0",
      "model_name": "DescriptionStyleModel",
      "state": {
       "description_width": ""
      }
     },
     "b53665fef9704e9d9de79458d41acd73": {
      "model_module": "@jupyter-widgets/controls",
      "model_module_version": "1.5.0",
      "model_name": "HTMLModel",
      "state": {
       "layout": "IPY_MODEL_3b503f368fb44c9d913adc413b8547f7",
       "style": "IPY_MODEL_3ebea914761f431bbf05b2f8f1d94aa4",
       "value": "ibmq_kolkata"
      }
     },
     "b59eb7adb5aa465783cd535669d18804": {
      "model_module": "@jupyter-widgets/controls",
      "model_module_version": "1.5.0",
      "model_name": "ButtonStyleModel",
      "state": {
       "button_color": "white"
      }
     },
     "c8094177ed42462094571defda9e17c1": {
      "model_module": "@jupyter-widgets/controls",
      "model_module_version": "1.5.0",
      "model_name": "DescriptionStyleModel",
      "state": {
       "description_width": ""
      }
     },
     "cd2f2cb6293845e9804f18ff93b7d269": {
      "model_module": "@jupyter-widgets/controls",
      "model_module_version": "1.5.0",
      "model_name": "HTMLModel",
      "state": {
       "layout": "IPY_MODEL_58f32173c861403e96b078fe3189b485",
       "style": "IPY_MODEL_aff26250447449ea9fa8977002e4c2fe",
       "value": "<font style='color:#34BC6E'>DONE</font>"
      }
     },
     "cff720ad9970442e8bed6cc4fa2ad40a": {
      "model_module": "@jupyter-widgets/base",
      "model_module_version": "1.2.0",
      "model_name": "LayoutModel",
      "state": {
       "width": "95px"
      }
     },
     "d059a6356e434b098f24b10e1fd19525": {
      "model_module": "@jupyter-widgets/controls",
      "model_module_version": "1.5.0",
      "model_name": "HTMLModel",
      "state": {
       "layout": "IPY_MODEL_43c9e36e0136490282b7179a071512ed",
       "style": "IPY_MODEL_5f59d452c6674b9a87f9897eb786c2ef",
       "value": "<h5>Backend</h5>"
      }
     },
     "d61e034875fa4ae38a01d275be9b997a": {
      "model_module": "@jupyter-widgets/controls",
      "model_module_version": "1.5.0",
      "model_name": "HTMLModel",
      "state": {
       "layout": "IPY_MODEL_6480e15c38f34a8cbb8f117279473527",
       "style": "IPY_MODEL_77477c2d1ed544579a786cf1797acd54",
       "value": "-"
      }
     },
     "dbc576e11413462f96478d2308f7e56e": {
      "model_module": "@jupyter-widgets/controls",
      "model_module_version": "1.5.0",
      "model_name": "HTMLModel",
      "state": {
       "layout": "IPY_MODEL_e1d644d1cdf548a0814ac62d203a009f",
       "style": "IPY_MODEL_2126ba85077b42f3b818647c49ae4b93",
       "value": "<h5>Message</h5>"
      }
     },
     "e1d644d1cdf548a0814ac62d203a009f": {
      "model_module": "@jupyter-widgets/base",
      "model_module_version": "1.2.0",
      "model_name": "LayoutModel",
      "state": {}
     },
     "e1fe1122192a4168b7802464e130372b": {
      "model_module": "@jupyter-widgets/controls",
      "model_module_version": "1.5.0",
      "model_name": "HBoxModel",
      "state": {
       "children": [
        "IPY_MODEL_607f118bbfc24b3b9653082cf31c046d",
        "IPY_MODEL_d059a6356e434b098f24b10e1fd19525",
        "IPY_MODEL_8f46e3fb1c564bac860a35acc136f9d0",
        "IPY_MODEL_0ba48ebd7b1e47d0bf70b2d1c6103f3e",
        "IPY_MODEL_dbc576e11413462f96478d2308f7e56e"
       ],
       "layout": "IPY_MODEL_f18199416ef84389a18541c1e646649a"
      }
     },
     "e6ae1f2cc17b47c092065a373c86f046": {
      "model_module": "@jupyter-widgets/base",
      "model_module_version": "1.2.0",
      "model_name": "LayoutModel",
      "state": {
       "width": "190px"
      }
     },
     "eb96f91bb47643858aa7f47adde16bba": {
      "model_module": "@jupyter-widgets/base",
      "model_module_version": "1.2.0",
      "model_name": "LayoutModel",
      "state": {
       "grid_area": "right",
       "padding": "0px 0px 0px 0px",
       "width": "70px"
      }
     },
     "f18199416ef84389a18541c1e646649a": {
      "model_module": "@jupyter-widgets/base",
      "model_module_version": "1.2.0",
      "model_name": "LayoutModel",
      "state": {
       "margin": "0px 0px 0px 37px",
       "width": "600px"
      }
     }
    },
    "version_major": 2,
    "version_minor": 0
   }
  }
 },
 "nbformat": 4,
 "nbformat_minor": 5
}
