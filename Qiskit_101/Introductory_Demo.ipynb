{
 "cells": [
  {
   "cell_type": "code",
   "execution_count": 1,
   "id": "6591a85c-d9fd-4c61-9359-d188c678c224",
   "metadata": {},
   "outputs": [
    {
     "name": "stderr",
     "output_type": "stream",
     "text": [
      "<frozen importlib._bootstrap>:219: RuntimeWarning: scipy._lib.messagestream.MessageStream size changed, may indicate binary incompatibility. Expected 56 from C header, got 64 from PyObject\n"
     ]
    }
   ],
   "source": [
    "import numpy as np\n",
    "\n",
    "# Importing standard Qiskit libraries\n",
    "from qiskit import QuantumCircuit, transpile, Aer, IBMQ\n",
    "from qiskit.tools.jupyter import *\n",
    "from qiskit.visualization import *\n",
    "from ibm_quantum_widgets import *\n",
    "from qiskit.providers.aer import QasmSimulator\n",
    "\n",
    "# Additional libraries\n",
    "from qiskit import QuantumRegister, ClassicalRegister\n",
    "from qiskit.providers.ibmq import least_busy\n",
    "from qiskit.tools import job_monitor\n",
    "from qiskit import execute\n",
    "\n",
    "# Loading your IBM Quantum account(s)\n",
    "provider = IBMQ.load_account() "
   ]
  },
  {
   "cell_type": "markdown",
   "id": "88518767-142c-47ec-9344-8226bae7a4b9",
   "metadata": {},
   "source": [
    "# Run Circuit on Simulator"
   ]
  },
  {
   "cell_type": "code",
   "execution_count": 2,
   "id": "3ad6af4c-95f0-4473-84df-5ffc02ae4c05",
   "metadata": {},
   "outputs": [
    {
     "name": "stdout",
     "output_type": "stream",
     "text": [
      "\n",
      "Total count for 00 and 11 are: {'00': 513, '11': 487}\n"
     ]
    },
    {
     "data": {
      "image/png": "[encoded data removed]",
      "text/plain": [
       "<Figure size 327.252x204.68 with 1 Axes>"
      ]
     },
     "execution_count": 2,
     "metadata": {},
     "output_type": "execute_result"
    }
   ],
   "source": [
    "#code taken from https://qiskit.org/documentation/intro_tutorial1.html\n",
    "\n",
    "\n",
    "# Use Aer's qasm_simulator\n",
    "simulator = QasmSimulator()\n",
    "\n",
    "# Create a quantum circuit with 2 qubits and 2 classical bits\n",
    "circuit = QuantumCircuit(2, 2)\n",
    "\n",
    "# Add a H gate on qubit 0\n",
    "circuit.h(0)\n",
    "\n",
    "# Add a CX (CNOT) gate on control qubit 0 and target qubit 1\n",
    "circuit.cx(0, 1)\n",
    "\n",
    "# Map the quantum measurements to the classical bits\n",
    "circuit.measure([0,1], [0,1])\n",
    "\n",
    "# compile the circuit down to low-level QASM instructions\n",
    "# supported by the backend (not needed for simple circuits)\n",
    "compiled_circuit = transpile(circuit, simulator)\n",
    "\n",
    "# Execute the circuit on the qasm simulator\n",
    "job = simulator.run(compiled_circuit, shots=1000)\n",
    "\n",
    "# Grab results from the job\n",
    "result = job.result()\n",
    "\n",
    "# Returns counts\n",
    "counts = result.get_counts(compiled_circuit)\n",
    "print(\"\\nTotal count for 00 and 11 are:\",counts)\n",
    "\n",
    "# Draw the circuit\n",
    "circuit.draw()"
   ]
  },
  {
   "cell_type": "markdown",
   "id": "5b9a5be4-d6fc-4b2e-a954-ac123c8f3d14",
   "metadata": {},
   "source": [
    "# Run Circuit on Real Device"
   ]
  },
  {
   "cell_type": "code",
   "execution_count": 3,
   "id": "495c6067-76ae-4611-97c2-a7f96b85a351",
   "metadata": {},
   "outputs": [
    {
     "data": {
      "text/plain": [
       "[<AccountProvider for IBMQ(hub='ibm-q', group='open', project='main')>,\n",
       " <AccountProvider for IBMQ(hub='ibm-q-internal', group='deployed', project='default')>]"
      ]
     },
     "execution_count": 3,
     "metadata": {},
     "output_type": "execute_result"
    }
   ],
   "source": [
    "# See what providers are available to you\n",
    "IBMQ.providers()"
   ]
  },
  {
   "cell_type": "code",
   "execution_count": 10,
   "id": "55492fb1-6802-45f4-80d1-ae7cc7d6dffb",
   "metadata": {},
   "outputs": [
    {
     "name": "stdout",
     "output_type": "stream",
     "text": [
      "ibmq_qasm_simulator\n",
      "ibmq_armonk\n",
      "ibmq_montreal\n",
      "ibmq_toronto\n",
      "ibmq_bogota\n",
      "ibmq_kolkata\n",
      "ibmq_mumbai\n",
      "ibmq_lima\n",
      "ibmq_belem\n",
      "ibmq_quito\n",
      "ibmq_guadalupe\n",
      "ibmq_brooklyn\n",
      "ibmq_jakarta\n",
      "ibmq_manila\n",
      "ibm_hanoi\n",
      "ibm_lagos\n",
      "ibm_cairo\n",
      "ibm_auckland\n",
      "ibm_perth\n",
      "ibm_washington\n"
     ]
    }
   ],
   "source": [
    "# Get your provider and see which backends are available to you\n",
    "\n",
    "provider = IBMQ.get_provider('ibm-q-internal') # comment this if you don't have access to internal systems\n",
    "#provider = IBMQ.get_provider('ibm-q') # publically accessible provider, open-access\n",
    "\n",
    "for backend in provider.backends():\n",
    "    print(backend)"
   ]
  },
  {
   "cell_type": "code",
   "execution_count": 11,
   "id": "3160c273-9816-404e-838a-f34dee82e5bc",
   "metadata": {},
   "outputs": [
    {
     "name": "stdout",
     "output_type": "stream",
     "text": [
      "ibmq_montreal\n",
      "ibmq_toronto\n",
      "ibmq_bogota\n",
      "ibmq_kolkata\n",
      "ibmq_mumbai\n",
      "ibmq_lima\n",
      "ibmq_belem\n",
      "ibmq_quito\n",
      "ibmq_guadalupe\n",
      "ibmq_brooklyn\n",
      "ibmq_jakarta\n",
      "ibmq_manila\n",
      "ibm_hanoi\n",
      "ibm_lagos\n",
      "ibm_cairo\n",
      "ibm_auckland\n",
      "ibm_perth\n",
      "ibm_washington\n"
     ]
    }
   ],
   "source": [
    "# Find which real devices are eligible to run your circuit\n",
    "\n",
    "eligible_devices = provider.backends(filters=lambda x:x.configuration().n_qubits>1 and not x.configuration().simulator)\n",
    "\n",
    "for backend in eligible_devices:\n",
    "    print(backend)"
   ]
  },
  {
   "cell_type": "code",
   "execution_count": 12,
   "id": "73df070e-bd4a-4abf-97bf-2c7606206f37",
   "metadata": {},
   "outputs": [
    {
     "name": "stdout",
     "output_type": "stream",
     "text": [
      "ibmq_belem\n"
     ]
    }
   ],
   "source": [
    "# Select the least busy backend\n",
    "\n",
    "chosen_backend = least_busy(eligible_devices)\n",
    "print(chosen_backend.name())"
   ]
  },
  {
   "cell_type": "code",
   "execution_count": 13,
   "id": "63fb419d-6363-4970-b558-14ccc0fe7bc6",
   "metadata": {},
   "outputs": [
    {
     "name": "stdout",
     "output_type": "stream",
     "text": [
      "Job Status: job has successfully run\n"
     ]
    }
   ],
   "source": [
    "# Run and monitor the job\n",
    "\n",
    "compiled_circuit = transpile(circuit, chosen_backend)\n",
    "job = chosen_backend.run(compiled_circuit, shots = 1000)\n",
    "job_monitor(job)"
   ]
  },
  {
   "cell_type": "code",
   "execution_count": 14,
   "id": "70750705-3b09-4539-9a3d-e6dbdec85a15",
   "metadata": {},
   "outputs": [
    {
     "name": "stdout",
     "output_type": "stream",
     "text": [
      "Your job ID is:\n",
      "628de7980814ba5c06ddd0fc\n",
      "\n",
      "The counts from the real device are:\n",
      "{'00': 476, '01': 40, '10': 31, '11': 453}\n",
      "\n",
      "The counts from the simulator are:\n",
      "{'00': 513, '11': 487}\n"
     ]
    }
   ],
   "source": [
    "# Check the results\n",
    "\n",
    "job_id = job.job_id()\n",
    "retrieved_job = chosen_backend.retrieve_job(job_id)\n",
    "result = retrieved_job.result()\n",
    "counts_real = result.get_counts()\n",
    "\n",
    "# If currently unable to run, can use the following result from real devices\n",
    "\n",
    "# counts_real = {'00': 476, '01': 15, '10': 18, '11': 491} # example result from a real quantum computer\n",
    "\n",
    "# Print both real and sim results\n",
    "print(\"Your job ID is:\")\n",
    "print(job_id)\n",
    "print()\n",
    "print(\"The counts from the real device are:\")\n",
    "print(counts_real)\n",
    "print()\n",
    "print(\"The counts from the simulator are:\")\n",
    "print(counts)"
   ]
  },
  {
   "cell_type": "code",
   "execution_count": 16,
   "id": "3baab08f-1323-4c6e-90e2-2a4faf5c22f6",
   "metadata": {},
   "outputs": [
    {
     "data": {
      "image/png": "[encoded data removed]",
      "text/plain": [
       "<Figure size 504x360 with 1 Axes>"
      ]
     },
     "execution_count": 16,
     "metadata": {},
     "output_type": "execute_result"
    }
   ],
   "source": [
    "# Plot the results\n",
    "\n",
    "title = 'Real vs. Simulated'\n",
    "legend = ['Real Counts', 'Sim Counts']\n",
    "\n",
    "plot_histogram([counts_real, counts], legend = legend, title = title, color = ['teal', 'purple'], bar_labels = False)"
   ]
  },
  {
   "cell_type": "markdown",
   "id": "0fa782eb-134f-472f-afef-98a281b9312f",
   "metadata": {},
   "source": [
    "# Hands-On Exercises\n",
    "\n",
    "Build a circuit that results in the state or logic table provided. You can use the composer or program the circuits here.\n",
    "\n",
    "*Exercises from Junye Huang*"
   ]
  },
  {
   "cell_type": "markdown",
   "id": "d1d33beb-b3dc-42cc-8ea6-8db311618035",
   "metadata": {},
   "source": [
    "![](NOT_gate.png)"
   ]
  },
  {
   "cell_type": "code",
   "execution_count": 22,
   "id": "06e597dc-8a6c-48dc-b2ec-7a65bb7b7508",
   "metadata": {},
   "outputs": [
    {
     "data": {
      "image/png": "[encoded data removed]",
      "text/plain": [
       "<Figure size 359.271x144.48 with 1 Axes>"
      ]
     },
     "metadata": {},
     "output_type": "display_data"
    },
    {
     "name": "stdout",
     "output_type": "stream",
     "text": [
      "The result when the qubit is initialized in state  0  is: 1\n"
     ]
    },
    {
     "data": {
      "image/png": "[encoded data removed]",
      "text/plain": [
       "<Figure size 419.471x144.48 with 1 Axes>"
      ]
     },
     "metadata": {},
     "output_type": "display_data"
    },
    {
     "name": "stdout",
     "output_type": "stream",
     "text": [
      "The result when the qubit is initialized in state  1  is: 0\n"
     ]
    }
   ],
   "source": [
    "# NOT operation using the simulator\n",
    "\n",
    "simulator = QasmSimulator()\n",
    "\n",
    "\n",
    "for i in ['0','1']:\n",
    "    # Prepare circuit\n",
    "    qreg = QuantumRegister(1, name = 'q_reg')\n",
    "    creg = ClassicalRegister(1, name = 'c_reg')\n",
    "    not_circ = QuantumCircuit(qreg,creg)\n",
    "    \n",
    "    # Initialize qubit state\n",
    "    if i == '1':\n",
    "        not_circ.x(0) \n",
    "    not_circ.barrier()\n",
    "    \n",
    "    # Apply NOT operation\n",
    "    not_circ.x(qreg[0]) # this is where you replace 'which'\n",
    "    not_circ.barrier()\n",
    "\n",
    "    # Measure\n",
    "    not_circ.measure(qreg[0],creg[0])\n",
    "    \n",
    "    display(not_circ.draw('mpl'))\n",
    "\n",
    "    job = simulator.run(not_circ, shots=1000)\n",
    "\n",
    "    # Grab results from the job\n",
    "    result = job.result()\n",
    "\n",
    "    # Returns counts\n",
    "    counts = result.get_counts(not_circ)\n",
    "\n",
    "    print('The result when the qubit is initialized in state ', i,' is:', max(counts))\n"
   ]
  },
  {
   "cell_type": "markdown",
   "id": "dea6e6ae-f7a5-4063-97af-97122dbde89b",
   "metadata": {},
   "source": [
    "![](XOR_gate.png)"
   ]
  },
  {
   "cell_type": "markdown",
   "id": "57413013-6fcd-4fd1-9b6c-c26589c1aa30",
   "metadata": {},
   "source": [
    "![](AND_gate.png)"
   ]
  },
  {
   "cell_type": "markdown",
   "id": "9126462f-ca77-4a59-8b04-d2d0f6405cbd",
   "metadata": {},
   "source": [
    "![](Bell_state_circ.png)"
   ]
  },
  {
   "cell_type": "markdown",
   "id": "ab12ceb4-d9bc-4b0a-9f4e-84ac85337248",
   "metadata": {},
   "source": [
    "![](GHZ_state_circ.png)"
   ]
  },
  {
   "cell_type": "markdown",
   "id": "fe324b94-75b6-4098-80a5-a588a6148eb4",
   "metadata": {},
   "source": [
    "![](qiskit_logo_circ.png)"
   ]
  },
  {
   "cell_type": "code",
   "execution_count": null,
   "id": "b9bae350-af71-46cd-acbd-3ac7797f63bf",
   "metadata": {},
   "outputs": [],
   "source": []
  }
 ],
 "metadata": {
  "kernelspec": {
   "display_name": "Qiskit v0.35.0 (ipykernel)",
   "language": "python",
   "name": "python3"
  },
  "language_info": {
   "codemirror_mode": {
    "name": "ipython",
    "version": 3
   },
   "file_extension": ".py",
   "mimetype": "text/x-python",
   "name": "python",
   "nbconvert_exporter": "python",
   "pygments_lexer": "ipython3",
   "version": "3.8.13"
  },
  "widgets": {
   "application/vnd.jupyter.widget-state+json": {
    "state": {
     "00d039ae67fd4e359e1c65f1b02a9039": {
      "model_module": "@jupyter-widgets/base",
      "model_module_version": "1.2.0",
      "model_name": "LayoutModel",
      "state": {}
     },
     "07bb411c4e704052896e277765fa5c05": {
      "model_module": "@jupyter-widgets/controls",
      "model_module_version": "1.5.0",
      "model_name": "HTMLModel",
      "state": {
       "layout": "IPY_MODEL_00d039ae67fd4e359e1c65f1b02a9039",
       "style": "IPY_MODEL_aeaf04752e2948d5bf39f38d0613d66e",
       "value": "<h5>Message</h5>"
      }
     },
     "0b02dff864af49d5998c1e71f871d868": {
      "model_module": "@jupyter-widgets/controls",
      "model_module_version": "1.5.0",
      "model_name": "DescriptionStyleModel",
      "state": {
       "description_width": ""
      }
     },
     "0d63c27d109b43cdaf848a06faea4ba8": {
      "model_module": "@jupyter-widgets/controls",
      "model_module_version": "1.5.0",
      "model_name": "HTMLModel",
      "state": {
       "layout": "IPY_MODEL_c28498cb29dd4e8384cdca47d0b9fbe6",
       "style": "IPY_MODEL_56584d2e054d45098ecd1da26ad349d9",
       "value": "job has successfully run"
      }
     },
     "10a2b83d762c461eaf37a3b479ef8607": {
      "model_module": "@jupyter-widgets/base",
      "model_module_version": "1.2.0",
      "model_name": "LayoutModel",
      "state": {
       "max_width": "700px",
       "min_width": "700px"
      }
     },
     "1448cb9ee5974ac68bb67537fe7b017c": {
      "model_module": "@jupyter-widgets/base",
      "model_module_version": "1.2.0",
      "model_name": "LayoutModel",
      "state": {
       "width": "145px"
      }
     },
     "18c3ef3fe47149708a7f09a8b73f6550": {
      "model_module": "@jupyter-widgets/controls",
      "model_module_version": "1.5.0",
      "model_name": "HTMLModel",
      "state": {
       "layout": "IPY_MODEL_c8161c0ff63d4f4ab0be32222f5f1a37",
       "style": "IPY_MODEL_5b823cdd642b41a49c62a07acb852709",
       "value": "<font style='color:#34BC6E'>DONE</font>"
      }
     },
     "30656a4d380b4d8d961e0ec4c8ee1142": {
      "model_module": "@jupyter-widgets/base",
      "model_module_version": "1.2.0",
      "model_name": "LayoutModel",
      "state": {
       "width": "145px"
      }
     },
     "31ea3e01e18747b3bb9edbf341da3361": {
      "model_module": "@jupyter-widgets/base",
      "model_module_version": "1.2.0",
      "model_name": "LayoutModel",
      "state": {
       "width": "70px"
      }
     },
     "3361d98e07d14916a9d9664f929ba009": {
      "model_module": "@jupyter-widgets/controls",
      "model_module_version": "1.5.0",
      "model_name": "DescriptionStyleModel",
      "state": {
       "description_width": ""
      }
     },
     "3752028ad6f9427e8dd7cad70a3ed5ac": {
      "model_module": "@jupyter-widgets/controls",
      "model_module_version": "1.5.0",
      "model_name": "ButtonModel",
      "state": {
       "icon": "close",
       "layout": "IPY_MODEL_658dc8ae15754287a0dca66bfd27262c",
       "style": "IPY_MODEL_6fd7edf7adbc43dea1f44c8750c28ff5"
      }
     },
     "42d4c55ac0e144699ca1e26774f4c0ba": {
      "model_module": "@jupyter-widgets/controls",
      "model_module_version": "1.5.0",
      "model_name": "DescriptionStyleModel",
      "state": {
       "description_width": ""
      }
     },
     "45340eb3af1d44ab86f75818846e4063": {
      "model_module": "@jupyter-widgets/controls",
      "model_module_version": "1.5.0",
      "model_name": "HTMLModel",
      "state": {
       "layout": "IPY_MODEL_30656a4d380b4d8d961e0ec4c8ee1142",
       "style": "IPY_MODEL_3361d98e07d14916a9d9664f929ba009",
       "value": "<h5>Backend</h5>"
      }
     },
     "4a5bae6d4ea94c5f96e3ecdb6f207f1e": {
      "model_module": "@jupyter-widgets/base",
      "model_module_version": "1.2.0",
      "model_name": "LayoutModel",
      "state": {
       "width": "70px"
      }
     },
     "4e747141189e44da9083c97785a5ea7c": {
      "model_module": "@jupyter-widgets/controls",
      "model_module_version": "1.5.0",
      "model_name": "HTMLModel",
      "state": {
       "layout": "IPY_MODEL_6577e073625845e582004886d92cff18",
       "style": "IPY_MODEL_e4489ec32201469bb5cc25b04110a711",
       "value": "<h5>Status</h5>"
      }
     },
     "56584d2e054d45098ecd1da26ad349d9": {
      "model_module": "@jupyter-widgets/controls",
      "model_module_version": "1.5.0",
      "model_name": "DescriptionStyleModel",
      "state": {
       "description_width": ""
      }
     },
     "5b823cdd642b41a49c62a07acb852709": {
      "model_module": "@jupyter-widgets/controls",
      "model_module_version": "1.5.0",
      "model_name": "DescriptionStyleModel",
      "state": {
       "description_width": ""
      }
     },
     "647ba8243d624d81bf7efc8e623eb8bd": {
      "model_module": "@jupyter-widgets/base",
      "model_module_version": "1.2.0",
      "model_name": "LayoutModel",
      "state": {
       "width": "190px"
      }
     },
     "6577e073625845e582004886d92cff18": {
      "model_module": "@jupyter-widgets/base",
      "model_module_version": "1.2.0",
      "model_name": "LayoutModel",
      "state": {
       "width": "95px"
      }
     },
     "658dc8ae15754287a0dca66bfd27262c": {
      "model_module": "@jupyter-widgets/base",
      "model_module_version": "1.2.0",
      "model_name": "LayoutModel",
      "state": {
       "margin": "0px 5px 0px 0px",
       "width": "32px"
      }
     },
     "6e9a3898a4174d84842639ce78d9f77b": {
      "model_module": "@jupyter-widgets/controls",
      "model_module_version": "1.5.0",
      "model_name": "ButtonStyleModel",
      "state": {}
     },
     "6fd7edf7adbc43dea1f44c8750c28ff5": {
      "model_module": "@jupyter-widgets/controls",
      "model_module_version": "1.5.0",
      "model_name": "ButtonStyleModel",
      "state": {
       "button_color": "white"
      }
     },
     "7238ced78cac4835804965568531fc40": {
      "model_module": "@jupyter-widgets/controls",
      "model_module_version": "1.5.0",
      "model_name": "HTMLModel",
      "state": {
       "layout": "IPY_MODEL_9db0e49f1a4f455d866bc6bb111f79b4",
       "style": "IPY_MODEL_dc9748fb99b84755b5ca85df5f96a98b",
       "value": "<h5>Job ID</h5>"
      }
     },
     "8351c1ffa9834a2dbaa6a0edd19580ea": {
      "model_module": "@jupyter-widgets/controls",
      "model_module_version": "1.5.0",
      "model_name": "HTMLModel",
      "state": {
       "layout": "IPY_MODEL_31ea3e01e18747b3bb9edbf341da3361",
       "style": "IPY_MODEL_d1f0a16b5ac34782a0442ebfedfd2f3c",
       "value": "-"
      }
     },
     "87f2b38534bd408998bf882aa942d321": {
      "model_module": "@jupyter-widgets/base",
      "model_module_version": "1.2.0",
      "model_name": "LayoutModel",
      "state": {
       "grid_area": "right",
       "padding": "0px 0px 0px 0px",
       "width": "70px"
      }
     },
     "9271d18a81c54321a862888ce56f6375": {
      "model_module": "@jupyter-widgets/controls",
      "model_module_version": "1.5.0",
      "model_name": "HTMLModel",
      "state": {
       "layout": "IPY_MODEL_4a5bae6d4ea94c5f96e3ecdb6f207f1e",
       "style": "IPY_MODEL_0b02dff864af49d5998c1e71f871d868",
       "value": "<h5>Queue</h5>"
      }
     },
     "96fde6bbc9344ecf857a4fe85ca6ddbc": {
      "model_module": "@jupyter-widgets/base",
      "model_module_version": "1.2.0",
      "model_name": "LayoutModel",
      "state": {
       "margin": "0px 0px 10px 0px"
      }
     },
     "9db0e49f1a4f455d866bc6bb111f79b4": {
      "model_module": "@jupyter-widgets/base",
      "model_module_version": "1.2.0",
      "model_name": "LayoutModel",
      "state": {
       "width": "190px"
      }
     },
     "ab344f5f62944808a5ac155af609a254": {
      "model_module": "@jupyter-widgets/controls",
      "model_module_version": "1.5.0",
      "model_name": "DescriptionStyleModel",
      "state": {
       "description_width": ""
      }
     },
     "aeaf04752e2948d5bf39f38d0613d66e": {
      "model_module": "@jupyter-widgets/controls",
      "model_module_version": "1.5.0",
      "model_name": "DescriptionStyleModel",
      "state": {
       "description_width": ""
      }
     },
     "b0804926157a4565b60f087ab2baeccf": {
      "model_module": "@jupyter-widgets/base",
      "model_module_version": "1.2.0",
      "model_name": "LayoutModel",
      "state": {
       "grid_template_areas": "\n                                       \". . . . right \"\n                                        ",
       "grid_template_columns": "20% 20% 20% 20% 20%",
       "width": "100%"
      }
     },
     "b29aa74a6d9244fca4aafd9f22cce1f0": {
      "model_module": "@jupyter-widgets/controls",
      "model_module_version": "1.5.0",
      "model_name": "DescriptionStyleModel",
      "state": {
       "description_width": ""
      }
     },
     "b475dca3de564739b0d1bc4690342ac7": {
      "model_module": "@jupyter-widgets/controls",
      "model_module_version": "1.5.0",
      "model_name": "ButtonModel",
      "state": {
       "button_style": "primary",
       "description": "Clear",
       "layout": "IPY_MODEL_87f2b38534bd408998bf882aa942d321",
       "style": "IPY_MODEL_6e9a3898a4174d84842639ce78d9f77b"
      }
     },
     "b6f3f2a6ae5b4b9094b44bad9d71edf6": {
      "model_module": "@jupyter-widgets/controls",
      "model_module_version": "1.5.0",
      "model_name": "HTMLModel",
      "state": {
       "layout": "IPY_MODEL_1448cb9ee5974ac68bb67537fe7b017c",
       "style": "IPY_MODEL_b29aa74a6d9244fca4aafd9f22cce1f0",
       "value": "ibmq_belem"
      }
     },
     "c28498cb29dd4e8384cdca47d0b9fbe6": {
      "model_module": "@jupyter-widgets/base",
      "model_module_version": "1.2.0",
      "model_name": "LayoutModel",
      "state": {
       "overflow_x": "scroll"
      }
     },
     "c8161c0ff63d4f4ab0be32222f5f1a37": {
      "model_module": "@jupyter-widgets/base",
      "model_module_version": "1.2.0",
      "model_name": "LayoutModel",
      "state": {
       "width": "95px"
      }
     },
     "d1f0a16b5ac34782a0442ebfedfd2f3c": {
      "model_module": "@jupyter-widgets/controls",
      "model_module_version": "1.5.0",
      "model_name": "DescriptionStyleModel",
      "state": {
       "description_width": ""
      }
     },
     "dbb8672ea7d743cabbbe60d9c81ca89e": {
      "model_module": "@jupyter-widgets/controls",
      "model_module_version": "1.5.0",
      "model_name": "GridBoxModel",
      "state": {
       "children": [
        "IPY_MODEL_b475dca3de564739b0d1bc4690342ac7"
       ],
       "layout": "IPY_MODEL_b0804926157a4565b60f087ab2baeccf"
      }
     },
     "dc9748fb99b84755b5ca85df5f96a98b": {
      "model_module": "@jupyter-widgets/controls",
      "model_module_version": "1.5.0",
      "model_name": "DescriptionStyleModel",
      "state": {
       "description_width": ""
      }
     },
     "e4489ec32201469bb5cc25b04110a711": {
      "model_module": "@jupyter-widgets/controls",
      "model_module_version": "1.5.0",
      "model_name": "DescriptionStyleModel",
      "state": {
       "description_width": ""
      }
     },
     "ee09c387bd5342d3b49cd9ef7213c614": {
      "model_module": "@jupyter-widgets/controls",
      "model_module_version": "1.5.0",
      "model_name": "HBoxModel",
      "state": {
       "children": [
        "IPY_MODEL_7238ced78cac4835804965568531fc40",
        "IPY_MODEL_45340eb3af1d44ab86f75818846e4063",
        "IPY_MODEL_4e747141189e44da9083c97785a5ea7c",
        "IPY_MODEL_9271d18a81c54321a862888ce56f6375",
        "IPY_MODEL_07bb411c4e704052896e277765fa5c05"
       ],
       "layout": "IPY_MODEL_f27f442a556340f2bbdd7aafe1d5cac6"
      }
     },
     "ee2623e988d74d0aa52f1f148451496b": {
      "model_module": "@jupyter-widgets/controls",
      "model_module_version": "1.5.0",
      "model_name": "HTMLModel",
      "state": {
       "layout": "IPY_MODEL_96fde6bbc9344ecf857a4fe85ca6ddbc",
       "style": "IPY_MODEL_42d4c55ac0e144699ca1e26774f4c0ba",
       "value": "<p style='font-family: IBM Plex Sans, Arial, Helvetica, sans-serif; font-size: 20px; font-weight: medium;'>Circuit Properties</p>"
      }
     },
     "f12e08382fc74f8abdb10c56d675ba10": {
      "model_module": "@jupyter-widgets/controls",
      "model_module_version": "1.5.0",
      "model_name": "HTMLModel",
      "state": {
       "layout": "IPY_MODEL_647ba8243d624d81bf7efc8e623eb8bd",
       "style": "IPY_MODEL_ab344f5f62944808a5ac155af609a254",
       "value": "628de7980814ba5c06ddd0fc"
      }
     },
     "f27f442a556340f2bbdd7aafe1d5cac6": {
      "model_module": "@jupyter-widgets/base",
      "model_module_version": "1.2.0",
      "model_name": "LayoutModel",
      "state": {
       "margin": "0px 0px 0px 37px",
       "width": "600px"
      }
     },
     "fc8a26bd52a64c3c84ce7be9694ea85c": {
      "model_module": "@jupyter-widgets/controls",
      "model_module_version": "1.5.0",
      "model_name": "HBoxModel",
      "state": {
       "children": [
        "IPY_MODEL_3752028ad6f9427e8dd7cad70a3ed5ac",
        "IPY_MODEL_f12e08382fc74f8abdb10c56d675ba10",
        "IPY_MODEL_b6f3f2a6ae5b4b9094b44bad9d71edf6",
        "IPY_MODEL_18c3ef3fe47149708a7f09a8b73f6550",
        "IPY_MODEL_8351c1ffa9834a2dbaa6a0edd19580ea",
        "IPY_MODEL_0d63c27d109b43cdaf848a06faea4ba8"
       ],
       "layout": "IPY_MODEL_10a2b83d762c461eaf37a3b479ef8607"
      }
     }
    },
    "version_major": 2,
    "version_minor": 0
   }
  }
 },
 "nbformat": 4,
 "nbformat_minor": 5
}
