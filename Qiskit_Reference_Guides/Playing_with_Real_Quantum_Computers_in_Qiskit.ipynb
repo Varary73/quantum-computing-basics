{
 "cells": [
  {
   "cell_type": "markdown",
   "id": "688c6b26",
   "metadata": {},
   "source": [
    "# Playing with Real Quantum Computers in Qiskit"
   ]
  },
  {
   "cell_type": "markdown",
   "id": "f59f9c7b",
   "metadata": {},
   "source": [
    "**Quick reference guide to accessing real quantum computers in Qiskit**\n",
    "\n",
    "\n",
    "This notebook demonstrates a way to access a real quantum device using Qiskit, and multiple ways of achieving the same thing where applicable. This is meant to be an easy lookup tool that supplements educational material.\n",
    "\n",
    "I'll assume you have prior knowledge of quantum circuits and basic Qiskit.\n",
    "\n",
    "If you aren't familiar with any of these, please see the following resources:\n",
    "- [Qiskit Textbook](https://qiskit.org/textbook)\n",
    "- [Qiskit Textbook: Lab 1. Quantum Circuits](https://qiskit.org/textbook/ch-labs/Lab01_QuantumCircuits.html)\n",
    "- [Qiskit Documentation: qiskit.circuit](https://qiskit.org/documentation/apidoc/circuit.html)\n",
    "\n",
    "*Click [here](https://nbviewer.org/github/quantum-kittens/quantum-computing-basics/blob/master/Qiskit_Reference_Guides/Playing_with_Real_Quantum_Computers_in_Qiskit.ipynb) to view this notebook in nbviewer*"
   ]
  },
  {
   "cell_type": "code",
   "execution_count": null,
   "id": "eeff3910",
   "metadata": {},
   "outputs": [],
   "source": [
    "# run this cell if you're executing this notebook in your browser\n",
    "!pip install qiskit\n",
    "\n",
    "from IPython.display import clear_output\n",
    "clear_output()"
   ]
  },
  {
   "cell_type": "code",
   "execution_count": 1,
   "id": "7f09a5fa",
   "metadata": {},
   "outputs": [],
   "source": [
    "from qiskit import *"
   ]
  },
  {
   "cell_type": "markdown",
   "id": "571ee795",
   "metadata": {},
   "source": [
    "\n",
    "## Load Account\n",
    "\n",
    "In order to choose which real device you want to play with, you first need to load your account and view which providers you have access to. \n",
    "\n",
    "If you need to save new credentials on your disk or overwrite previously saved credentials, retrieve your API token from [quantum-computing.ibm.com](https://quantum-computing.ibm.com/).\n"
   ]
  },
  {
   "cell_type": "code",
   "execution_count": 2,
   "id": "78ffff19",
   "metadata": {},
   "outputs": [
    {
     "data": {
      "text/plain": [
       "<AccountProvider for IBMQ(hub='ibm-q', group='open', project='main')>"
      ]
     },
     "execution_count": 2,
     "metadata": {},
     "output_type": "execute_result"
    }
   ],
   "source": [
    "from qiskit import IBMQ\n",
    "\n",
    "# IBMQ.save_account('APITOKEN', overwrite=True) ## Uncomment and replace APITOKEN with your API token to save new credentials\n",
    "IBMQ.load_account()\n",
    "IBMQ.providers()"
   ]
  },
  {
   "cell_type": "markdown",
   "id": "c76129db",
   "metadata": {},
   "source": [
    "This example shows access to the 'ibm-q' provider.\n",
    "\n",
    "Note: You can also see a list of providers you have access to by going to your account on [quantum-computing.ibm.com](https://quantum-computing.ibm.com/) > View account details > Providers"
   ]
  },
  {
   "cell_type": "markdown",
   "id": "bd6463c0",
   "metadata": {},
   "source": [
    "## Get Provider with get_provider() and View Available Backends"
   ]
  },
  {
   "cell_type": "code",
   "execution_count": 5,
   "id": "c3b20db0",
   "metadata": {},
   "outputs": [
    {
     "name": "stdout",
     "output_type": "stream",
     "text": [
      "ibmq_qasm_simulator\n",
      "ibmq_armonk\n",
      "ibmq_santiago\n",
      "ibmq_bogota\n",
      "ibmq_lima\n",
      "ibmq_belem\n",
      "ibmq_quito\n",
      "simulator_statevector\n",
      "simulator_mps\n",
      "simulator_extended_stabilizer\n",
      "simulator_stabilizer\n",
      "ibmq_manila\n"
     ]
    }
   ],
   "source": [
    "provider = IBMQ.get_provider('ibm-q')\n",
    "\n",
    "for backend in provider.backends():\n",
    "    print(backend)"
   ]
  },
  {
   "cell_type": "markdown",
   "id": "f0733ed9",
   "metadata": {},
   "source": [
    "Backends that don't have the word 'simulator' in their names are real devices! "
   ]
  },
  {
   "cell_type": "markdown",
   "id": "269d7916",
   "metadata": {},
   "source": [
    "## Select Device Based on Conditions\n",
    "\n",
    "### Method 1: Manually choose backend using information from jupyter widget\n"
   ]
  },
  {
   "cell_type": "code",
   "execution_count": 6,
   "id": "f9cf4843",
   "metadata": {},
   "outputs": [],
   "source": [
    "import qiskit.tools.jupyter "
   ]
  },
  {
   "cell_type": "code",
   "execution_count": 20,
   "id": "2f8a464f",
   "metadata": {},
   "outputs": [
    {
     "data": {
      "application/vnd.jupyter.widget-view+json": {
       "model_id": "e15bb5a602b1447c8122d56e51b2075d",
       "version_major": 2,
       "version_minor": 0
      },
      "text/plain": [
       "VBox(children=(HTML(value=\"<h1 style='color:#ffffff;background-color:#000000;padding-top: 1%;padding-bottom: 1…"
      ]
     },
     "metadata": {},
     "output_type": "display_data"
    },
    {
     "data": {
      "text/plain": [
       "<IBMQBackend('ibmq_manila') from IBMQ(hub='ibm-q', group='open', project='main')>"
      ]
     },
     "execution_count": 20,
     "metadata": {},
     "output_type": "execute_result"
    }
   ],
   "source": [
    "backend = provider.get_backend('ibmq_manila') # replace ibmq_manila with whatever backend you want information on\n",
    "backend "
   ]
  },
  {
   "cell_type": "markdown",
   "id": "8d35d8a7",
   "metadata": {},
   "source": [
    "(Note: you need to run the cell in order to view the widget.)\n",
    "\n",
    "As you can see you get all sorts of nifty details like the number of qubits, how many pending jobs there currently are, quantum volume, etc.\n",
    "\n",
    "\n",
    "Here's something for you to try: which backend has only one qubit?"
   ]
  },
  {
   "cell_type": "markdown",
   "id": "013b83d2",
   "metadata": {},
   "source": [
    "### Method 2: Apply filters and use least_busy\n",
    "\n",
    "If you require a real device and not a simulator, and if you require more than, say, 3 qubits for your circuit, you can apply filters to select a device that is real and large enough."
   ]
  },
  {
   "cell_type": "code",
   "execution_count": 21,
   "id": "6016e491",
   "metadata": {},
   "outputs": [
    {
     "name": "stdout",
     "output_type": "stream",
     "text": [
      "ibmq_santiago\n",
      "ibmq_bogota\n",
      "ibmq_lima\n",
      "ibmq_belem\n",
      "ibmq_quito\n",
      "ibmq_manila\n"
     ]
    }
   ],
   "source": [
    "eligible_devices = provider.backends(filters=lambda x:x.configuration().n_qubits>3 and not x.configuration().simulator)\n",
    "\n",
    "for backend in eligible_devices:\n",
    "    print(backend)"
   ]
  },
  {
   "cell_type": "markdown",
   "id": "c079eba8",
   "metadata": {},
   "source": [
    "Out of all the devices that fit your criteria, you probably want the one that's currently the least busy. Unless you want an excuse to buy you some time!"
   ]
  },
  {
   "cell_type": "code",
   "execution_count": 24,
   "id": "d7500c56",
   "metadata": {},
   "outputs": [
    {
     "name": "stdout",
     "output_type": "stream",
     "text": [
      "ibmq_bogota\n"
     ]
    }
   ],
   "source": [
    "from qiskit.providers.ibmq import least_busy\n",
    "\n",
    "chosen_backend = least_busy(eligible_devices)\n",
    "print(chosen_backend.name())"
   ]
  },
  {
   "cell_type": "markdown",
   "id": "66b83307",
   "metadata": {},
   "source": [
    "## View Gate Map\n",
    "\n",
    "If you want to see the connectivity of the qubits on the device, look at its gate map."
   ]
  },
  {
   "cell_type": "markdown",
   "id": "9fbd44b5",
   "metadata": {},
   "source": [
    "### Method 1: Jupyter Widget\n",
    "\n",
    "The configuration tab in the jupyter widget we saw earlier depicts the gate map."
   ]
  },
  {
   "cell_type": "code",
   "execution_count": 25,
   "id": "6d3aaf5b",
   "metadata": {},
   "outputs": [
    {
     "data": {
      "application/vnd.jupyter.widget-view+json": {
       "model_id": "44e5239645af44849aa3feeca7e884c5",
       "version_major": 2,
       "version_minor": 0
      },
      "text/plain": [
       "VBox(children=(HTML(value=\"<h1 style='color:#ffffff;background-color:#000000;padding-top: 1%;padding-bottom: 1…"
      ]
     },
     "metadata": {},
     "output_type": "display_data"
    },
    {
     "data": {
      "text/plain": [
       "<IBMQBackend('ibmq_bogota') from IBMQ(hub='ibm-q', group='open', project='main')>"
      ]
     },
     "execution_count": 25,
     "metadata": {},
     "output_type": "execute_result"
    }
   ],
   "source": [
    "chosen_backend"
   ]
  },
  {
   "cell_type": "markdown",
   "id": "8f6631ec",
   "metadata": {},
   "source": [
    "### Method 2: Using plot_gate_map"
   ]
  },
  {
   "cell_type": "code",
   "execution_count": 37,
   "id": "82bcebc8",
   "metadata": {},
   "outputs": [
    {
     "data": {
      "image/png": "[encoded data removed]",
      "text/plain": [
       "<Figure size 360x360 with 1 Axes>"
      ]
     },
     "execution_count": 37,
     "metadata": {},
     "output_type": "execute_result"
    }
   ],
   "source": [
    "from qiskit.visualization import plot_gate_map\n",
    "\n",
    "plot_gate_map(chosen_backend, plot_directed = False) # toggle plot_directed and see what happens"
   ]
  },
  {
   "cell_type": "markdown",
   "id": "41f2f5ec",
   "metadata": {},
   "source": [
    "## View Error Map\n",
    "\n",
    "If you need the latest noise information for a device, look at its error map."
   ]
  },
  {
   "cell_type": "markdown",
   "id": "5948c4f4",
   "metadata": {},
   "source": [
    "### Method 1: Jupyter Widget\n",
    "\n",
    "Click on the error map tab in the widget we looked at above!"
   ]
  },
  {
   "cell_type": "markdown",
   "id": "3c5c0ea7",
   "metadata": {},
   "source": [
    "### Method 2: Using plot_error_map"
   ]
  },
  {
   "cell_type": "code",
   "execution_count": 36,
   "id": "91f837d7",
   "metadata": {},
   "outputs": [
    {
     "data": {
      "image/png": "[encoded data removed]",
      "text/plain": [
       "<Figure size 864x648 with 5 Axes>"
      ]
     },
     "execution_count": 36,
     "metadata": {},
     "output_type": "execute_result"
    }
   ],
   "source": [
    "from qiskit.visualization import plot_error_map\n",
    "\n",
    "plot_error_map(chosen_backend) "
   ]
  },
  {
   "cell_type": "markdown",
   "id": "31e9101f",
   "metadata": {},
   "source": [
    "## Run a Circuit on a Real Quantum Computer\n",
    "\n",
    "Now that we've selected a backend, we can conduct an experiment with a circuit!\n"
   ]
  },
  {
   "cell_type": "markdown",
   "id": "a3ebf55f",
   "metadata": {},
   "source": [
    "### Prepare Your Circuit\n",
    "First we need a circuit. Let's build a circuit that generates this Bell state:\n",
    "\n",
    "$\\left|\\psi^-\\right\\rangle = \\frac{1}{\\sqrt{2}}(\\left|01\\right\\rangle - \\left|10\\right\\rangle)$\n"
   ]
  },
  {
   "cell_type": "code",
   "execution_count": 40,
   "id": "67614588",
   "metadata": {},
   "outputs": [
    {
     "data": {
      "image/png": "[encoded data removed]",
      "text/plain": [
       "<Figure size 538.279x204.68 with 1 Axes>"
      ]
     },
     "metadata": {},
     "output_type": "display_data"
    }
   ],
   "source": [
    "qc_bell = QuantumCircuit(2)\n",
    "\n",
    "qc_bell.h(0)\n",
    "qc_bell.cx(0,1)\n",
    "qc_bell.x(1)\n",
    "qc_bell.z(1)\n",
    "qc_bell.measure_all()\n",
    "\n",
    "display(qc_bell.draw('mpl'))"
   ]
  },
  {
   "cell_type": "markdown",
   "id": "a3670ca7",
   "metadata": {},
   "source": [
    "### Execute and Monitor Your Job"
   ]
  },
  {
   "cell_type": "code",
   "execution_count": 41,
   "id": "96bb0284",
   "metadata": {},
   "outputs": [
    {
     "name": "stdout",
     "output_type": "stream",
     "text": [
      "Job Status: job has successfully run\n"
     ]
    }
   ],
   "source": [
    "from qiskit.tools import job_monitor\n",
    "\n",
    "job = execute(qc_bell, chosen_backend)\n",
    "job_monitor(job)"
   ]
  },
  {
   "cell_type": "markdown",
   "id": "5dbdff72",
   "metadata": {},
   "source": [
    "You can save your job's id to retrieve it later on."
   ]
  },
  {
   "cell_type": "code",
   "execution_count": 43,
   "id": "3030fc55",
   "metadata": {},
   "outputs": [],
   "source": [
    "job_id = job.job_id()"
   ]
  },
  {
   "cell_type": "markdown",
   "id": "8626a7fa",
   "metadata": {},
   "source": [
    "Retrieve your result with the job id."
   ]
  },
  {
   "cell_type": "code",
   "execution_count": 47,
   "id": "0c2a70b0",
   "metadata": {},
   "outputs": [
    {
     "name": "stdout",
     "output_type": "stream",
     "text": [
      "{'00': 282, '01': 1741, '10': 1850, '11': 127}\n"
     ]
    }
   ],
   "source": [
    "retrieved_job = chosen_backend.retrieve_job(job_id)\n",
    "result = retrieved_job.result()\n",
    "counts_real = result.get_counts()\n",
    "print(counts_real)"
   ]
  },
  {
   "cell_type": "markdown",
   "id": "b0f61f24",
   "metadata": {},
   "source": [
    "## Compare Real vs. Simulated Results\n",
    "\n",
    "Since real quantum computers are not fault tolerant, i.e., they are noisy, the results you get from a real quantum computer are a little different from what you would expect. "
   ]
  },
  {
   "cell_type": "code",
   "execution_count": 46,
   "id": "853fb979",
   "metadata": {},
   "outputs": [
    {
     "data": {
      "image/png": "[encoded data removed]",
      "text/plain": [
       "<Figure size 504x360 with 1 Axes>"
      ]
     },
     "execution_count": 46,
     "metadata": {},
     "output_type": "execute_result"
    }
   ],
   "source": [
    "from qiskit.visualization import plot_histogram\n",
    "\n",
    "sim_backend = Aer.get_backend('qasm_simulator')\n",
    "job_sim = execute(qc_bell, sim_backend)\n",
    "counts_sim = job_sim.result().get_counts()\n",
    "\n",
    "title = 'Real vs. Simulated'\n",
    "legend = ['Real Counts', 'Sim Counts']\n",
    "\n",
    "plot_histogram([counts_real, counts_sim], legend = legend, title = title, color = ['teal', 'black'], bar_labels = False)"
   ]
  },
  {
   "cell_type": "markdown",
   "id": "78b4ca50",
   "metadata": {},
   "source": [
    "## More to Explore\n",
    "\n",
    "- [Qiskit Textbook: Lab 1. Quantum Circuits](https://qiskit.org/textbook/ch-labs/Lab01_QuantumCircuits.html)\n",
    "- [How I Use Quantum Computing to Create Bubble Art](https://medium.com/qiskit/how-i-use-quantum-computing-to-create-bubble-art-d6c01f3ec2e) (a fun intro to quantum noise)\n",
    "- [Playing with Quantum Circuits in Qiskit](https://github.com/quantum-kittens/quantum-computing-basics/blob/master/Qiskit_Reference_Guides/Playing_with_Quantum_Circuits_in_Qiskit.ipynb)\n",
    "- [Playing with Quantum States in Qiskit](https://github.com/quantum-kittens/quantum-computing-basics/blob/master/Qiskit_Reference_Guides/Playing_with_Quantum_States_in_Qiskit.ipynb)\n",
    "\n",
    "Created by quantum-kittens"
   ]
  },
  {
   "cell_type": "code",
   "execution_count": null,
   "id": "28f9a4a0",
   "metadata": {},
   "outputs": [],
   "source": []
  }
 ],
 "metadata": {
  "kernelspec": {
   "display_name": "Python 3 (ipykernel)",
   "language": "python",
   "name": "python3"
  },
  "language_info": {
   "codemirror_mode": {
    "name": "ipython",
    "version": 3
   },
   "file_extension": ".py",
   "mimetype": "text/x-python",
   "name": "python",
   "nbconvert_exporter": "python",
   "pygments_lexer": "ipython3",
   "version": "3.9.7"
  }
 },
 "nbformat": 4,
 "nbformat_minor": 5
}
