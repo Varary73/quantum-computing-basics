{
 "cells": [
  {
   "cell_type": "markdown",
   "metadata": {},
   "source": [
    "# Playing with Quantum Circuits in Qiskit \n",
    "\n",
    "**Quick reference guide to guide to creating circuits and simulating measurements in Qiskit**\n",
    "\n",
    "This notebook demonstrates some of the ways you can play with circuits using Qiskit, and multiple ways of achieving the same thing where applicable. This is meant to be an easy lookup tool for when you code with Qiskit.\n",
    "\n",
    "I'll assume you have prior knowledge of quantum states, quantum gates, OpenQASM, and basic Qiskit, especially the QuantumCircuit class.\n",
    "\n",
    "If not, check these out:\n",
    "- [Qiskit documentation: QuantumCircuit](https://qiskit.org/documentation/stubs/qiskit.circuit.QuantumCircuit.html#qiskit.circuit.QuantumCircuit)\n",
    "- [Qiskit tutorial: Summary of Quantum Operations](https://qiskit.org/documentation/tutorials/circuits/3_summary_of_quantum_operations.html)\n",
    "- [OpenQASM](https://qiskit.github.io/openqasm/language/gates.html)\n",
    "\n",
    "\n",
    "*Click [here](https://nbviewer.jupyter.org/github/quantum-kittens/quantum-computing-basics/blob/master/Qiskit_Reference_Guides/Playing_with_Quantum_Circuits_in_Qiskit.ipynb) to view this notebook in nbviewer.*"
   ]
  },
  {
   "cell_type": "code",
   "execution_count": 1,
   "metadata": {},
   "outputs": [],
   "source": [
    "# run this cell if you're executing this notebook in your browser\n",
    "!pip install qiskit\n",
    "\n",
    "from IPython.display import clear_output\n",
    "clear_output()"
   ]
  },
  {
   "cell_type": "code",
   "execution_count": 5,
   "metadata": {},
   "outputs": [],
   "source": [
    "from qiskit import *\n",
    "import numpy as np"
   ]
  },
  {
   "cell_type": "markdown",
   "metadata": {},
   "source": [
    "## Creating a Quantum Circuit\n",
    "\n",
    "Creating a circuit with 2 qubits and 2 classical bits."
   ]
  },
  {
   "cell_type": "markdown",
   "metadata": {},
   "source": [
    "### Without Registers"
   ]
  },
  {
   "cell_type": "code",
   "execution_count": 3,
   "metadata": {},
   "outputs": [
    {
     "data": {
      "image/png": "[encoded data removed]",
      "text/plain": [
       "<Figure size 116.552x204.68 with 1 Axes>"
      ]
     },
     "execution_count": 3,
     "metadata": {},
     "output_type": "execute_result"
    }
   ],
   "source": [
    "qc = QuantumCircuit(2,2)\n",
    "\n",
    "qc.draw('mpl')"
   ]
  },
  {
   "cell_type": "markdown",
   "metadata": {},
   "source": [
    "### With Registers\n",
    "\n",
    "- [Qiskit documentation: QuantumRegister](https://qiskit.org/documentation/stubs/qiskit.circuit.QuantumRegister.html)\n",
    "- [Qiskit documentation: ClassicalRegister](https://qiskit.org/documentation/stubs/qiskit.circuit.ClassicalRegister.html?highlight=classicalregister#qiskit.circuit.ClassicalRegister)\n"
   ]
  },
  {
   "cell_type": "code",
   "execution_count": 4,
   "metadata": {},
   "outputs": [
    {
     "data": {
      "image/png": "[encoded data removed]",
      "text/plain": [
       "<Figure size 151.167x204.68 with 1 Axes>"
      ]
     },
     "execution_count": 4,
     "metadata": {},
     "output_type": "execute_result"
    }
   ],
   "source": [
    "qreg = QuantumRegister(2, name = 'qreg')\n",
    "creg = ClassicalRegister(2, name = 'creg')\n",
    "\n",
    "qc = QuantumCircuit(qreg, creg)\n",
    "\n",
    "qc.draw('mpl')"
   ]
  },
  {
   "cell_type": "markdown",
   "metadata": {},
   "source": [
    "## The Gate Zoo\n",
    "\n",
    "All the gates your heart could ever want. Well, most of them."
   ]
  },
  {
   "cell_type": "markdown",
   "metadata": {},
   "source": [
    "### Single-Qubit Gates\n",
    "\n",
    "Bonus: check out the difference between **.draw()** with and without **'mpl'**."
   ]
  },
  {
   "cell_type": "code",
   "execution_count": 6,
   "metadata": {},
   "outputs": [
    {
     "data": {
      "image/png": "[encoded data removed]",
      "text/plain": [
       "<Figure size 855.926x84.28 with 1 Axes>"
      ]
     },
     "metadata": {},
     "output_type": "display_data"
    },
    {
     "data": {
      "text/html": [
       "<pre style=\"word-wrap: normal;white-space: pre;background: #fff0;line-height: 1.1;font-family: &quot;Courier New&quot;,Courier,monospace\">     ┌───┐┌───┐┌───┐┌───┐┌─────┐┌───┐┌─────┐┌─────────┐┌─────────┐┌─────────┐»\n",
       "q_0: ┤ X ├┤ Y ├┤ Z ├┤ S ├┤ SDG ├┤ T ├┤ TDG ├┤ RX(π/2) ├┤ RY(π/2) ├┤ RZ(π/2) ├»\n",
       "     └───┘└───┘└───┘└───┘└─────┘└───┘└─────┘└─────────┘└─────────┘└─────────┘»\n",
       "«     ┌──────────────┐┌───────────┐┌──────┐\n",
       "«q_0: ┤ U(π/2,π/4,π) ├┤ U2(π/4,π) ├┤ P(π) ├\n",
       "«     └──────────────┘└───────────┘└──────┘</pre>"
      ],
      "text/plain": [
       "     ┌───┐┌───┐┌───┐┌───┐┌─────┐┌───┐┌─────┐┌─────────┐┌─────────┐┌─────────┐»\n",
       "q_0: ┤ X ├┤ Y ├┤ Z ├┤ S ├┤ SDG ├┤ T ├┤ TDG ├┤ RX(π/2) ├┤ RY(π/2) ├┤ RZ(π/2) ├»\n",
       "     └───┘└───┘└───┘└───┘└─────┘└───┘└─────┘└─────────┘└─────────┘└─────────┘»\n",
       "«     ┌──────────────┐┌───────────┐┌──────┐\n",
       "«q_0: ┤ U(π/2,π/4,π) ├┤ U2(π/4,π) ├┤ P(π) ├\n",
       "«     └──────────────┘└───────────┘└──────┘"
      ]
     },
     "metadata": {},
     "output_type": "display_data"
    }
   ],
   "source": [
    "qc = QuantumCircuit(1)\n",
    "\n",
    "# set the angles to whatever you want\n",
    "theta = np.pi/2\n",
    "phi = np.pi/4\n",
    "lambdaa = np.pi\n",
    "\n",
    "# comment/uncomment the gates to play with them\n",
    "\n",
    "qc.x(0) # x on qubit 0\n",
    "qc.y(0) # y on qubit 0\n",
    "qc.z(0) # z on qubit 0\n",
    "qc.s(0) # s gate on qubit 0, sqrt of z\n",
    "qc.sdg(0) # s† on qubit 0\n",
    "qc.t(0) # t gate on qubit 0, sqrt of s\n",
    "qc.tdg(0) # t† on qubit 0\n",
    "\n",
    "### rotations\n",
    "qc.rx(theta,0) # rx rotation on qubit 0\n",
    "qc.ry(theta,0) # ry rotation on qubit 0\n",
    "qc.rz(theta,0) # rz rotation on qubit 0\n",
    "\n",
    "### generic\n",
    "qc.u(theta, phi, lambdaa, 0) #u3 gate\n",
    "qc.u2(phi, lambdaa, 0) #u2 = u3(pi/2, phi, lambdaa)\n",
    "qc.p(lambdaa, 0) #p = u1 = u3(0, 0, lambdaa)\n",
    "\n",
    "#\n",
    "\n",
    "display(qc.draw('mpl'))\n",
    "display(qc.draw())\n"
   ]
  },
  {
   "cell_type": "markdown",
   "metadata": {},
   "source": [
    "### 2-Qubit Gates"
   ]
  },
  {
   "cell_type": "code",
   "execution_count": 8,
   "metadata": {},
   "outputs": [
    {
     "data": {
      "image/png": "[encoded data removed]",
      "text/plain": [
       "<Figure size 447.652x144.48 with 1 Axes>"
      ]
     },
     "execution_count": 8,
     "metadata": {},
     "output_type": "execute_result"
    }
   ],
   "source": [
    "qc = QuantumCircuit(2)\n",
    "\n",
    "# set the angles to whatever you want\n",
    "theta = np.pi/2\n",
    "phi = np.pi/4\n",
    "lambdaa = np.pi\n",
    "\n",
    "\n",
    "# comment/uncomment any of the following to your heart's content\n",
    "\n",
    "qc.cx(0,1) # CNOT with qubit 0 as control and qubit 1 as target\n",
    "qc.cy(0,1) # controlled-Y with qubit 0 as control and qubit 1 as target\n",
    "qc.cz(0,1) # controlled-Z with qubit 0 as control and qubit 1 as target\n",
    "qc.ch(0, 1) # controlled-H with qubit 0 as control and qubit 1 as target\n",
    "qc.cu3(theta, phi, lambdaa, 0, 1) # controlled-u3 with qubit 0 as control and qubit 1 as target\n",
    "qc.swap(0,1) # swap qubits 0 and 1\n",
    "\n",
    "#\n",
    "\n",
    "qc.draw('mpl')\n"
   ]
  },
  {
   "cell_type": "markdown",
   "metadata": {},
   "source": [
    "### 3-Qubit Gates\n",
    "\n",
    "This shows three ways of creating the **Toffoli gate** with qubits 0 & 1 as controls and qubit 2 as the target. Take particular note of the **circuit library**, **append**, and **.control()**.\n",
    "\n"
   ]
  },
  {
   "cell_type": "code",
   "execution_count": 9,
   "metadata": {},
   "outputs": [
    {
     "data": {
      "image/png": "[encoded data removed]",
      "text/plain": [
       "<Figure size 267.197x204.68 with 1 Axes>"
      ]
     },
     "execution_count": 9,
     "metadata": {},
     "output_type": "execute_result"
    }
   ],
   "source": [
    "from qiskit.circuit.library import CXGate\n",
    "\n",
    "qc = QuantumCircuit(3)\n",
    "\n",
    "# Method 1:\n",
    "qc.ccx(0,1,2) \n",
    "\n",
    "\n",
    "# Method 2:\n",
    "qc.mct([0,1],2)\n",
    "\n",
    "#Method 3\n",
    "our_ccx = CXGate().control()\n",
    "qc.append(our_ccx, [0,1,2])\n",
    "\n",
    "\n",
    "qc.draw('mpl')\n"
   ]
  },
  {
   "cell_type": "markdown",
   "metadata": {},
   "source": [
    "## Brief Digression: Creating a Bell Circuit\n",
    "\n",
    "Let's whip up a circuit that generates a Bell state, and then use it as an example for most of this notebook.\n",
    "\n",
    "$\\left|\\phi^+\\right\\rangle = \\frac{1}{\\sqrt{2}}(\\left|00\\right\\rangle + \\left|11\\right\\rangle)$\n",
    "\n",
    "$\\left|\\phi^-\\right\\rangle = \\frac{1}{\\sqrt{2}}(\\left|00\\right\\rangle - \\left|11\\right\\rangle)$\n",
    "\n",
    "$\\left|\\psi^+\\right\\rangle = \\frac{1}{\\sqrt{2}}(\\left|01\\right\\rangle + \\left|10\\right\\rangle)$\n",
    "\n",
    "$\\left|\\psi^-\\right\\rangle = \\frac{1}{\\sqrt{2}}(\\left|01\\right\\rangle - \\left|10\\right\\rangle)$\n",
    "\n",
    "To make things as unnecessarily complicated as possible, I'm going with $\\left|\\psi^-\\right\\rangle$. "
   ]
  },
  {
   "cell_type": "code",
   "execution_count": 10,
   "metadata": {},
   "outputs": [
    {
     "data": {
      "image/png": "[encoded data removed]",
      "text/plain": [
       "<Figure size 327.252x144.48 with 1 Axes>"
      ]
     },
     "metadata": {},
     "output_type": "display_data"
    }
   ],
   "source": [
    "qc_bell = QuantumCircuit(2)\n",
    "\n",
    "qc_bell.h(0)\n",
    "qc_bell.cx(0,1)\n",
    "qc_bell.x(1)\n",
    "qc_bell.z(1)\n",
    "\n",
    "display(qc_bell.draw('mpl'))"
   ]
  },
  {
   "cell_type": "markdown",
   "metadata": {},
   "source": [
    "If you want to quickly double check that the above circuit indeed generates $\\left|\\psi^-\\right\\rangle$, you can retrieve the state of the circuit using Statevector. "
   ]
  },
  {
   "cell_type": "code",
   "execution_count": 11,
   "metadata": {},
   "outputs": [
    {
     "data": {
      "text/latex": [
       "$$\n",
       "\\left|\\psi^-\\right\\rangle = \n",
       "\\begin{bmatrix}\n",
       "0 & \\tfrac{1}{\\sqrt{2}} & -\\tfrac{1}{\\sqrt{2}} & 0  \\\\\n",
       " \\end{bmatrix}\n",
       "$$"
      ],
      "text/plain": [
       "<IPython.core.display.Latex object>"
      ]
     },
     "execution_count": 11,
     "metadata": {},
     "output_type": "execute_result"
    }
   ],
   "source": [
    "from qiskit.quantum_info import Statevector \n",
    "\n",
    "state = Statevector(qc_bell)\n",
    "\n",
    "state.draw('latex', prefix = '\\\\left|\\\\psi^-\\\\right\\\\rangle = ' )"
   ]
  },
  {
   "cell_type": "markdown",
   "metadata": {},
   "source": [
    "This isn't the only way to look at states. For more on quantum states, I point you to the reference guide: [Playing with Quantum States in Qiskit](https://nbviewer.jupyter.org/github/quantum-kittens/quantum-computing-basics/blob/master/Qiskit_Reference_Guides/Playing_with_Quantum_States_in_Qiskit.ipynb)."
   ]
  },
  {
   "cell_type": "markdown",
   "metadata": {},
   "source": [
    "## OpenQASM"
   ]
  },
  {
   "cell_type": "markdown",
   "metadata": {},
   "source": [
    "### Using OpenQASM to Create a Circuit"
   ]
  },
  {
   "cell_type": "code",
   "execution_count": 12,
   "metadata": {},
   "outputs": [
    {
     "data": {
      "image/png": "[encoded data removed]",
      "text/plain": [
       "<Figure size 447.652x204.68 with 1 Axes>"
      ]
     },
     "execution_count": 12,
     "metadata": {},
     "output_type": "execute_result"
    }
   ],
   "source": [
    "bell_qasm_string = \"\"\"\n",
    "OPENQASM 2.0; \n",
    "include \"qelib1.inc\"; \n",
    "\n",
    "gate bell a, b {\n",
    "    u(pi/2, 0, pi) a;\n",
    "    cx a, b;\n",
    "}\n",
    "\n",
    "qreg q[2];\n",
    "creg c[2];\n",
    "\n",
    "bell q[0], q[1];\n",
    "x q[1];\n",
    "z q[1];\n",
    "\n",
    "barrier q[0],q[1];\n",
    "measure q[0] -> c[0];\n",
    "measure q[1] -> c[1];\n",
    "\"\"\"\n",
    "\n",
    "qc_bell_qasm = QuantumCircuit.from_qasm_str(bell_qasm_string)\n",
    "qc_bell_qasm.draw('mpl')"
   ]
  },
  {
   "cell_type": "markdown",
   "metadata": {},
   "source": [
    "This one has measurements. What I'm calling the 'bell' gate is the basic requirement for a Bell state to be generated. The bell gate alone generates the state $\\left|\\phi^+\\right\\rangle$. I've made it a little more complicated than it needs to be, just to demonstrate how to define a gate.\n",
    "\n",
    "And $u(pi/2, 0, pi)$ is the Hadamard gate.\n",
    "\n"
   ]
  },
  {
   "cell_type": "markdown",
   "metadata": {},
   "source": [
    "### Return the OpenQASM String for a Circuit"
   ]
  },
  {
   "cell_type": "code",
   "execution_count": 13,
   "metadata": {},
   "outputs": [
    {
     "name": "stdout",
     "output_type": "stream",
     "text": [
      "OPENQASM 2.0;\n",
      "include \"qelib1.inc\";\n",
      "qreg q[2];\n",
      "h q[0];\n",
      "cx q[0],q[1];\n",
      "x q[1];\n",
      "z q[1];\n",
      "\n"
     ]
    }
   ],
   "source": [
    "qc_bell_string = qc_bell.qasm()\n",
    "print(qc_bell_string)"
   ]
  },
  {
   "cell_type": "markdown",
   "metadata": {},
   "source": [
    "### Bonus: Wrap a Circuit to a Gate\n",
    "\n",
    "We can also create the bell gate without OpenQASM."
   ]
  },
  {
   "cell_type": "code",
   "execution_count": 8,
   "metadata": {},
   "outputs": [
    {
     "data": {
      "image/png": "[encoded data removed]",
      "text/plain": [
       "<Figure size 206.852x144.48 with 1 Axes>"
      ]
     },
     "metadata": {},
     "output_type": "display_data"
    },
    {
     "data": {
      "image/png": "[encoded data removed]",
      "text/plain": [
       "<Figure size 206.852x144.48 with 1 Axes>"
      ]
     },
     "metadata": {},
     "output_type": "display_data"
    }
   ],
   "source": [
    "qc_bell_init = QuantumCircuit(2)\n",
    "qc_bell_init.h(0)\n",
    "qc_bell_init.cx(0,1)\n",
    "\n",
    "display(qc_bell_init.draw('mpl'))\n",
    "\n",
    "bell_gate = qc_bell_init.to_gate()\n",
    "bell_gate.name ='Bell Gate'\n",
    "\n",
    "qc_bell_gate = QuantumCircuit(2)\n",
    "qc_bell_gate.append(bell_gate, [0,1])\n",
    "\n",
    "display(qc_bell_gate.draw('mpl'))"
   ]
  },
  {
   "cell_type": "markdown",
   "metadata": {},
   "source": [
    "## Unitary Representation of a Circuit"
   ]
  },
  {
   "cell_type": "markdown",
   "metadata": {},
   "source": [
    "### Method 1: Operator from quantum_info"
   ]
  },
  {
   "cell_type": "code",
   "execution_count": 14,
   "metadata": {},
   "outputs": [
    {
     "data": {
      "text/latex": [
       "$$\n",
       "U = \n",
       "\\begin{bmatrix}\n",
       "0 & 0 & \\tfrac{1}{\\sqrt{2}} & \\tfrac{1}{\\sqrt{2}}  \\\\\n",
       " \\tfrac{1}{\\sqrt{2}} & -\\tfrac{1}{\\sqrt{2}} & 0 & 0  \\\\\n",
       " -\\tfrac{1}{\\sqrt{2}} & -\\tfrac{1}{\\sqrt{2}} & 0 & 0  \\\\\n",
       " 0 & 0 & -\\tfrac{1}{\\sqrt{2}} & \\tfrac{1}{\\sqrt{2}}  \\\\\n",
       " \\end{bmatrix}\n",
       "$$"
      ],
      "text/plain": [
       "<IPython.core.display.Latex object>"
      ]
     },
     "execution_count": 14,
     "metadata": {},
     "output_type": "execute_result"
    }
   ],
   "source": [
    "from qiskit.quantum_info import Operator\n",
    "from qiskit.visualization import array_to_latex\n",
    "\n",
    "U = Operator(qc_bell)\n",
    "\n",
    "array_to_latex(U.data, prefix = 'U = ')"
   ]
  },
  {
   "cell_type": "markdown",
   "metadata": {},
   "source": [
    "### Method 2: Using the Unitary Simulator"
   ]
  },
  {
   "cell_type": "code",
   "execution_count": 15,
   "metadata": {},
   "outputs": [
    {
     "data": {
      "text/latex": [
       "$$\n",
       "U = \n",
       "\\begin{bmatrix}\n",
       "0 & 0 & \\tfrac{1}{\\sqrt{2}} & \\tfrac{1}{\\sqrt{2}}  \\\\\n",
       " \\tfrac{1}{\\sqrt{2}} & -\\tfrac{1}{\\sqrt{2}} & 0 & 0  \\\\\n",
       " -\\tfrac{1}{\\sqrt{2}} & -\\tfrac{1}{\\sqrt{2}} & 0 & 0  \\\\\n",
       " 0 & 0 & -\\tfrac{1}{\\sqrt{2}} & \\tfrac{1}{\\sqrt{2}}  \\\\\n",
       " \\end{bmatrix}\n",
       "$$"
      ],
      "text/plain": [
       "<IPython.core.display.Latex object>"
      ]
     },
     "metadata": {},
     "output_type": "display_data"
    }
   ],
   "source": [
    "from qiskit.providers.aer import UnitarySimulator\n",
    "\n",
    "backend = UnitarySimulator() # alternative: backend = Aer.get_backend('unitary_simulator')\n",
    "\n",
    "job = execute(qc_bell, backend)\n",
    "U = job.result().get_unitary()\n",
    "\n",
    "display(array_to_latex(U.data, prefix = 'U = '))\n",
    "\n"
   ]
  },
  {
   "cell_type": "markdown",
   "metadata": {},
   "source": [
    "## Simulating Measurements Using the Qasm Simulator\n",
    "\n",
    "Includes an example of how to use **.compose()**"
   ]
  },
  {
   "cell_type": "code",
   "execution_count": 16,
   "metadata": {},
   "outputs": [
    {
     "data": {
      "image/png": "[encoded data removed]",
      "text/plain": [
       "<Figure size 507.852x204.68 with 1 Axes>"
      ]
     },
     "metadata": {},
     "output_type": "display_data"
    },
    {
     "name": "stdout",
     "output_type": "stream",
     "text": [
      "Counts: {'01': 502, '10': 522}\n"
     ]
    }
   ],
   "source": [
    "from qiskit.providers.aer import QasmSimulator\n",
    "\n",
    "qc_measure = QuantumCircuit(2,2)\n",
    "\n",
    "qc_measure.barrier()\n",
    "qc_measure.measure([0,1], [0,1]) # alternative: qc_measure = QuantumCircuit(2) | qc_measure.measure_all() = .barrier() + measure every qubit + creates a classical register\n",
    "\n",
    "qc_bell_measure = qc_measure.compose(qc_bell, range(2), front = True) # combines two circuits, placing qc_bell in front of qc_measure\n",
    "\n",
    "display(qc_bell_measure.draw('mpl'))\n",
    "\n",
    "backend = QasmSimulator() # alternative: backend = Aer.get_backend('qasm_simulator')\n",
    "\n",
    "job = execute(qc_bell_measure, backend, shots = 1024) # alternative: qc_transpiled = transpile(qc_bell_measure, backend), job = backend.run(qc_transpiled, shots = 1024)\n",
    "\n",
    "counts = job.result().get_counts()\n",
    "\n",
    "print('Counts: ' + str(counts))\n"
   ]
  },
  {
   "cell_type": "markdown",
   "metadata": {},
   "source": [
    "## Visualizing Measurements Using plot_histogram"
   ]
  },
  {
   "cell_type": "code",
   "execution_count": 17,
   "metadata": {},
   "outputs": [
    {
     "data": {
      "image/png": "[encoded data removed]",
      "text/plain": [
       "<Figure size 504x360 with 1 Axes>"
      ]
     },
     "execution_count": 17,
     "metadata": {},
     "output_type": "execute_result"
    }
   ],
   "source": [
    "from qiskit.visualization import plot_histogram\n",
    "\n",
    "plot_histogram(counts)"
   ]
  },
  {
   "cell_type": "markdown",
   "metadata": {},
   "source": [
    "You can do a lot more with histograms. For instance, you can compare the results of two experiments side by side!"
   ]
  },
  {
   "cell_type": "code",
   "execution_count": 19,
   "metadata": {},
   "outputs": [
    {
     "name": "stdout",
     "output_type": "stream",
     "text": [
      "Counts, second experiment: {'10': 525, '01': 499}\n"
     ]
    }
   ],
   "source": [
    "job = execute(qc_bell_measure, backend, shots = 1024) \n",
    "\n",
    "counts_2 = job.result().get_counts()\n",
    "\n",
    "print('Counts, second experiment: ' + str(counts_2))"
   ]
  },
  {
   "cell_type": "code",
   "execution_count": 20,
   "metadata": {},
   "outputs": [
    {
     "data": {
      "image/png": "[encoded data removed]",
      "text/plain": [
       "<Figure size 720x504 with 1 Axes>"
      ]
     },
     "execution_count": 20,
     "metadata": {},
     "output_type": "execute_result"
    }
   ],
   "source": [
    "legend = ['First Experiment', 'Second Experiment']\n",
    "plot_histogram([counts, counts_2], legend = legend, color = ['teal', 'black'], figsize = (10, 7), bar_labels = False)"
   ]
  },
  {
   "cell_type": "markdown",
   "metadata": {},
   "source": [
    "## Decomposing Circuits\n",
    "\n",
    "To demonstrate decomposition, it'd be better to look at a more complicated circuit. \n",
    "\n",
    "So let's extend the Bell state $\\left|\\phi^+\\right\\rangle = \\frac{1}{\\sqrt{2}}(\\left|00\\right\\rangle + \\left|11\\right\\rangle)$ to the GHZ state: $\\left|GHZ\\right\\rangle = \\frac{1}{\\sqrt{2}}(\\left|000\\right\\rangle + \\left|111\\right\\rangle)$"
   ]
  },
  {
   "cell_type": "code",
   "execution_count": 2,
   "metadata": {},
   "outputs": [
    {
     "data": {
      "image/png": "[encoded data removed]",
      "text/plain": [
       "<Figure size 267.197x204.68 with 1 Axes>"
      ]
     },
     "execution_count": 2,
     "metadata": {},
     "output_type": "execute_result"
    }
   ],
   "source": [
    "qc_ghz = QuantumCircuit(3)\n",
    "\n",
    "qc_ghz.h(0)\n",
    "qc_ghz.cx(0,1)\n",
    "qc_ghz.ccx(0,1,2)\n",
    "qc_ghz.draw('mpl') #original circuit"
   ]
  },
  {
   "cell_type": "markdown",
   "metadata": {},
   "source": [
    "### Method 1: .decompose()"
   ]
  },
  {
   "cell_type": "code",
   "execution_count": 13,
   "metadata": {},
   "outputs": [
    {
     "data": {
      "image/png": "[encoded data removed]",
      "text/plain": [
       "<Figure size 808.997x204.68 with 1 Axes>"
      ]
     },
     "metadata": {},
     "output_type": "display_data"
    },
    {
     "data": {
      "image/png": "[encoded data removed]",
      "text/plain": [
       "<Figure size 808.997x204.68 with 1 Axes>"
      ]
     },
     "metadata": {},
     "output_type": "display_data"
    }
   ],
   "source": [
    "display(qc_ghz.decompose().draw('mpl')) #decompose one level down\n",
    "display(qc_ghz.decompose().decompose().draw('mpl')) #decompose two levels down"
   ]
  },
  {
   "cell_type": "markdown",
   "metadata": {},
   "source": [
    "### Method 2: Unroller + PassManager"
   ]
  },
  {
   "cell_type": "code",
   "execution_count": 4,
   "metadata": {},
   "outputs": [
    {
     "data": {
      "image/png": "[encoded data removed]",
      "text/plain": [
       "<Figure size 808.997x204.68 with 1 Axes>"
      ]
     },
     "execution_count": 4,
     "metadata": {},
     "output_type": "execute_result"
    }
   ],
   "source": [
    "from qiskit.transpiler import PassManager\n",
    "from qiskit.transpiler.passes import Unroller\n",
    "\n",
    "gates_pass = Unroller(['u1', 'u2', 'u3', 'cx']) #play around with this\n",
    "pm = PassManager(gates_pass)\n",
    "pm.run(qc_ghz).draw('mpl')"
   ]
  },
  {
   "cell_type": "markdown",
   "metadata": {},
   "source": [
    "## Circuit Depth"
   ]
  },
  {
   "cell_type": "code",
   "execution_count": 21,
   "metadata": {},
   "outputs": [
    {
     "name": "stdout",
     "output_type": "stream",
     "text": [
      "The circuit depth of the Bell circuit without measurements is: 4\n",
      "The circuit depth of the Bell circuit with measurements is: 5\n"
     ]
    }
   ],
   "source": [
    "print('The circuit depth of the Bell circuit without measurements is: ' + str(qc_bell.depth()))\n",
    "\n",
    "#Qiskit counts the measurements in the depth calculation:\n",
    "print('The circuit depth of the Bell circuit with measurements is: ' + str(qc_bell_measure.depth()))"
   ]
  },
  {
   "cell_type": "markdown",
   "metadata": {},
   "source": [
    "**Practice figuring out the depth of a randomly generated circuit:**"
   ]
  },
  {
   "cell_type": "code",
   "execution_count": 45,
   "metadata": {},
   "outputs": [
    {
     "data": {
      "image/png": "[encoded data removed]",
      "text/plain": [
       "<Figure size 387.597x264.88 with 1 Axes>"
      ]
     },
     "execution_count": 45,
     "metadata": {},
     "output_type": "execute_result"
    }
   ],
   "source": [
    "from qiskit.circuit.random import random_circuit\n",
    "import random\n",
    "\n",
    "#play around with these parameters:\n",
    "num_qubits = 3 \n",
    "max_depth = 10\n",
    "add_measurements = True #True/False\n",
    "\n",
    "#random circuit:\n",
    "rand_circ = random_circuit(num_qubits, depth = random.randint(1,max_depth), measure=add_measurements) \n",
    "rand_circ.draw('mpl')"
   ]
  },
  {
   "cell_type": "code",
   "execution_count": null,
   "metadata": {},
   "outputs": [],
   "source": [
    "# run this cell to see if you are correct\n",
    "\n",
    "print('The circuit depth is: ' + str(rand_circ.depth()))"
   ]
  },
  {
   "cell_type": "markdown",
   "metadata": {},
   "source": [
    "## More to explore:\n",
    "\n",
    "- [Adder in OpenQASM](https://github.com/Qiskit/openqasm/blob/master/examples/adder.qasm)\n",
    "- [Quantum Fridays: Clifford exercises](https://github.com/qiskit-community/quantum-fridays/blob/main/Exercise5.ipynb)\n",
    "- [Quantum Fridays: Effects of garbage in quantum circuits](https://github.com/qiskit-community/quantum-fridays/blob/main/Exercise6.ipynb)\n",
    "- [Playing with Quantum States in Qiskit](https://nbviewer.jupyter.org/github/quantum-kittens/quantum-computing-basics/blob/master/Qiskit_Reference_Guides/Playing_with_Quantum_States_in_Qiskit.ipynb)\n"
   ]
  },
  {
   "cell_type": "markdown",
   "metadata": {},
   "source": [
    "Created by quantum-kittens"
   ]
  },
  {
   "cell_type": "code",
   "execution_count": null,
   "metadata": {},
   "outputs": [],
   "source": []
  }
 ],
 "metadata": {
  "kernelspec": {
   "display_name": "Python 3",
   "language": "python",
   "name": "python3"
  },
  "language_info": {
   "codemirror_mode": {
    "name": "ipython",
    "version": 3
   },
   "file_extension": ".py",
   "mimetype": "text/x-python",
   "name": "python",
   "nbconvert_exporter": "python",
   "pygments_lexer": "ipython3",
   "version": "3.6.1"
  }
 },
 "nbformat": 4,
 "nbformat_minor": 4
}
